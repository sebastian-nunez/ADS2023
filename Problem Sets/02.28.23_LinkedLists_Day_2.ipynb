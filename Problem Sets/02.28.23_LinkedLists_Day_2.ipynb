{
 "cells": [
  {
   "attachments": {},
   "cell_type": "markdown",
   "metadata": {},
   "source": [
    "# Instructions\n",
    "\n",
    "The ListNode used in all of these problems can be found in `list_node.py`. There are also two helper functions in the file that you are free to use for testing:\n",
    "\n",
    "-`pretty_print` takes in the head of a linked list and prints the list in a human-readable way\n",
    "\n",
    "-`head_from_list` converts a regular Python list to a linked list, returning the head\n",
    "\n",
    "Don't forget your edge cases!\n",
    "\n",
    "\n",
    "\n",
    "\n",
    "\n",
    "\n",
    "\n",
    "\n",
    "\n",
    "\n"
   ]
  },
  {
   "cell_type": "code",
   "execution_count": 35,
   "metadata": {},
   "outputs": [],
   "source": [
    "class ListNode:\n",
    "\n",
    "  def __init__(self, val, next=None):\n",
    "    self.val = val\n",
    "    self.next = next\n",
    "\n",
    "\n",
    "def pretty_print(head):\n",
    "  temp = head\n",
    "  while temp:\n",
    "    if temp.next:\n",
    "      print(temp.val, end=' -> ')\n",
    "    else:\n",
    "      print(temp.val)\n",
    "    temp = temp.next\n",
    "\n",
    "\n",
    "def head_from_list(lst):\n",
    "  if not lst:\n",
    "    return None\n",
    "\n",
    "  head = ListNode(lst[0], None)\n",
    "\n",
    "  temp = None\n",
    "  prev = head\n",
    "\n",
    "  for i in range(1, len(lst)):\n",
    "    val = lst[i]\n",
    "    temp = ListNode(val, None)\n",
    "    prev.next = temp\n",
    "    prev = temp\n",
    "\n",
    "  return head\n"
   ]
  },
  {
   "attachments": {},
   "cell_type": "markdown",
   "metadata": {},
   "source": [
    "## Warmup: Every Other\n",
    "\n",
    "Given a list, remove every other node, starting with the second.\n",
    "\n",
    "Examples:\n",
    "```\n",
    "head: 8 -> 6 -> 7 -> 5 -> 3 -> 0 -> 9\n",
    "output: 8 -> 7 -> 3 -> 9\n",
    "```"
   ]
  },
  {
   "cell_type": "code",
   "execution_count": 36,
   "metadata": {},
   "outputs": [
    {
     "name": "stdout",
     "output_type": "stream",
     "text": [
      "8 -> 7 -> 3 -> 9\n",
      "8 -> 7\n",
      "8\n"
     ]
    }
   ],
   "source": [
    "def every_other(head):\n",
    "    if not head:\n",
    "        return None\n",
    "    \n",
    "    cur = head\n",
    "    while cur and cur.next:\n",
    "        cur.next = cur.next.next\n",
    "        cur = cur.next\n",
    "        \n",
    "    return head\n",
    "\n",
    "head = head_from_list([8, 6, 7, 5, 3, 0, 9])\n",
    "pretty_print(every_other(head))  # 8 -> 7 -> 3 -> 9\n",
    "\n",
    "head = head_from_list([8, 6, 7, 11])\n",
    "pretty_print(every_other(head))  # 8 -> 7\n",
    "\n",
    "head = head_from_list([8])\n",
    "pretty_print(every_other(head))  # 8"
   ]
  },
  {
   "attachments": {},
   "cell_type": "markdown",
   "metadata": {},
   "source": [
    "## Remove Duplicates\n",
    "\n",
    "You may have done this last class, but it's a great problem if you didn't get a chance to work on it!\n",
    "\n",
    "Given the head of a sorted linked list, remove all duplicates from the list.\n",
    "\n",
    "Examples:\n",
    "```\n",
    "head: 2 -> 2 -> 5 -> 7 -> 7 -> 7 -> 7 -> 9 -> 9 -> 10 -> 11 -> 11\n",
    "output: 2 -> 5 -> 7 -> 9 -> 10 -> 11\n",
    "```"
   ]
  },
  {
   "cell_type": "code",
   "execution_count": 37,
   "metadata": {},
   "outputs": [
    {
     "name": "stdout",
     "output_type": "stream",
     "text": [
      "2 -> 5 -> 7 -> 9 -> 10 -> 11\n",
      "2 -> 3\n"
     ]
    }
   ],
   "source": [
    "def remove_duplicates(head):\n",
    "    dummy = ListNode('dummy', head)\n",
    "    \n",
    "    cur = dummy\n",
    "    while cur:\n",
    "        nxt = cur.next\n",
    "        while nxt and nxt.val == cur.val: # skip over duplicates\n",
    "            nxt = nxt.next\n",
    "          \n",
    "        cur.next = nxt\n",
    "        cur = cur.next\n",
    "        \n",
    "    return dummy.next\n",
    "    \n",
    "head = head_from_list([2,2,5,7,7,7,9,9,10,11,11]) # 2 -> 5 -> 7 -> 9 -> 10 -> 11\n",
    "pretty_print(remove_duplicates(head))\n",
    "\n",
    "head = head_from_list([2,2,2,2,3]) # 2 -> 3\n",
    "pretty_print(remove_duplicates(head))"
   ]
  },
  {
   "attachments": {},
   "cell_type": "markdown",
   "metadata": {},
   "source": [
    "## Partition\n",
    "Given the head of a linked list and a value `x`, rearrange the list so that all of the values less than or equal to `x` appear before all of the values greater than `x`. The nodes in each part (less than or greater than) should appear in their original list order.\n",
    "\n",
    "Example:\n",
    "```\n",
    "input: head: 16 -> 9 -> 1 -> 12 -> 15 -> 4, x = 10\n",
    "output: 9 -> 1 -> 4 -> 16 -> 12 -> 15\n",
    "```\n",
    "\n",
    "You must do this using only O(1) additional space."
   ]
  },
  {
   "cell_type": "code",
   "execution_count": 38,
   "metadata": {},
   "outputs": [
    {
     "name": "stdout",
     "output_type": "stream",
     "text": [
      "9 -> 1 -> 4 -> 16 -> 12 -> 15\n"
     ]
    }
   ],
   "source": [
    "\n",
    "def partition(head, x):\n",
    "  if not head:\n",
    "    return None\n",
    "\n",
    "  smaller_tail = ListNode('dummy')\n",
    "  smaller_head = smaller_tail\n",
    "\n",
    "  larger_tail = ListNode('dummy')\n",
    "  larger_head = larger_tail\n",
    "\n",
    "  cur = head\n",
    "  while cur:\n",
    "    if cur.val <= x:\n",
    "      smaller_tail.next = cur\n",
    "      smaller_tail = smaller_tail.next\n",
    "    else:\n",
    "      larger_tail.next = cur\n",
    "      larger_tail = larger_tail.next\n",
    "\n",
    "    cur = cur.next\n",
    "\n",
    "  # clean up the ends of the lists\n",
    "  smaller_tail.next = None\n",
    "  larger_tail.next = None\n",
    "  \n",
    "  smaller_tail.next = larger_head.next\n",
    "  return smaller_head.next\n",
    "\n",
    "\n",
    "head = head_from_list([16, 9, 1, 12, 15, 4]) # 9 -> 1 -> 4 -> 16 -> 12 -> 15\n",
    "pretty_print(partition(head, 10))"
   ]
  },
  {
   "attachments": {},
   "cell_type": "markdown",
   "metadata": {},
   "source": [
    "## Reverse\n",
    "Given the head of a linked list, reverse the list and return the new head.\n",
    "\n",
    "Example:\n",
    "```\n",
    "head: 5 -> 2 -> 4 -> 7\n",
    "output: 7 -> 4 -> 2 -> 5\n",
    "```\n",
    "\n",
    "You must do this using only O(1) additional space."
   ]
  },
  {
   "cell_type": "code",
   "execution_count": 39,
   "metadata": {},
   "outputs": [
    {
     "name": "stdout",
     "output_type": "stream",
     "text": [
      "7 -> 4 -> 2 -> 5\n"
     ]
    }
   ],
   "source": [
    "def reverse(head):\n",
    "    cur = head\n",
    "    prev = None\n",
    "    while cur:\n",
    "        next = cur.next\n",
    "        cur.next = prev\n",
    "        prev = cur\n",
    "        cur = next\n",
    "        \n",
    "    return prev\n",
    "\n",
    "head = head_from_list([5,2,4,7])\n",
    "pretty_print(reverse(head))"
   ]
  },
  {
   "attachments": {},
   "cell_type": "markdown",
   "metadata": {},
   "source": [
    "## Detect Cycle\n",
    "Given the head of a linked list, return whether or not the list contains a cycle.\n",
    "\n",
    "For testing purposes, I've given you the `create_cycle` function (which makes the last node in a list point back to the `i`th node), but you can also create cycles manually.\n",
    "\n",
    "You must do this using only O(1) additional space. It can be done a different way using extra space, which you can try first if you'd like.\n",
    "\n",
    "Examples:\n",
    "\n",
    "```Input: ```\n",
    "<img src=\"./llcycle.png\">\n",
    "\n",
    "```\n",
    "Output: True\n",
    "```\n",
    "\n",
    "```\n",
    "Input: 8 -> 6 -> 8 -> 7 -> 12\n",
    "Output: False"
   ]
  },
  {
   "cell_type": "code",
   "execution_count": 40,
   "metadata": {},
   "outputs": [
    {
     "name": "stdout",
     "output_type": "stream",
     "text": [
      "True\n",
      "True\n",
      "False\n",
      "False\n"
     ]
    }
   ],
   "source": [
    "def detect_cycle(head):\n",
    "  if not head:\n",
    "    return False\n",
    "  \n",
    "  slow = head\n",
    "  fast = head\n",
    "  while fast and fast.next:\n",
    "    slow = slow.next\n",
    "    fast = fast.next.next\n",
    "    \n",
    "    if slow == fast:\n",
    "      return True\n",
    "    \n",
    "  return False\n",
    "\n",
    "\n",
    "# This function is just to help you create test cases.\n",
    "# Makes the tail of the list head point back to the node at index i.\n",
    "def create_cycle(head, i):\n",
    "\n",
    "  tail = head\n",
    "  cycle_node = head\n",
    "  count = 0\n",
    "  while tail.next:\n",
    "    if count == i:\n",
    "      cycle_node = tail\n",
    "    tail = tail.next\n",
    "    count += 1\n",
    "\n",
    "  tail.next = cycle_node\n",
    "  \n",
    "head = head_from_list([3,2,0,-4])\n",
    "create_cycle(head, 1)\n",
    "print(detect_cycle(head)) # True\n",
    "\n",
    "head = head_from_list([3,2,0,-4, 99, 32, 43, 24])\n",
    "create_cycle(head, 6)\n",
    "print(detect_cycle(head)) # True\n",
    "\n",
    "head = head_from_list([8,6,8,7,12])\n",
    "print(detect_cycle(head)) # False\n",
    "\n",
    "head = head_from_list([8])\n",
    "print(detect_cycle(head)) # False"
   ]
  },
  {
   "attachments": {},
   "cell_type": "markdown",
   "metadata": {},
   "source": [
    "## Intersection\n",
    "\n",
    "Given `head1` and `head2` find where the two LinkedList intersect. *Use an auxiallary data structure (set)*\n",
    "\n",
    "<img src=\"./linkedlist_intersection.png\">"
   ]
  },
  {
   "cell_type": "code",
   "execution_count": 41,
   "metadata": {},
   "outputs": [
    {
     "name": "stdout",
     "output_type": "stream",
     "text": [
      "c1 -> c2 -> c3\n"
     ]
    }
   ],
   "source": [
    "def intersection_auxillary(head1, head2):\n",
    "    seen = set()\n",
    "    \n",
    "    cur = head1\n",
    "    while cur:\n",
    "        seen.add(cur.val)\n",
    "        cur = cur.next\n",
    "        \n",
    "    cur = head2\n",
    "    while cur:\n",
    "        if cur.val in seen:\n",
    "            return cur\n",
    "        \n",
    "        cur = cur.next\n",
    "    \n",
    "    return None\n",
    "\n",
    "\n",
    "intersection_list = head_from_list(['c1', 'c2', 'c3'])\n",
    "head1 = head_from_list(['a1', 'a2'])\n",
    "head1.next.next = intersection_list\n",
    "head2 = head_from_list(['b1', 'b2', 'b3'])\n",
    "head2.next.next.next = intersection_list\n",
    "\n",
    "pretty_print(intersection_auxillary(head1, head2))"
   ]
  },
  {
   "attachments": {},
   "cell_type": "markdown",
   "metadata": {},
   "source": [
    "## Intersection Extension \n",
    "\n",
    "Solve the same problem without using an auxillary data structure"
   ]
  },
  {
   "cell_type": "code",
   "execution_count": 42,
   "metadata": {},
   "outputs": [
    {
     "name": "stdout",
     "output_type": "stream",
     "text": [
      "c1 -> c2 -> c3\n"
     ]
    }
   ],
   "source": [
    "def intersection(head1, head2):\n",
    "    cur = head1\n",
    "    head1_size = 0\n",
    "    while cur:\n",
    "        head1_size += 1\n",
    "        cur = cur.next\n",
    "        \n",
    "    cur = head2\n",
    "    head2_size = 0\n",
    "    while cur:\n",
    "        head2_size += 1\n",
    "        cur = cur.next\n",
    "        \n",
    "    cur1 = head1\n",
    "    cur2 = head2\n",
    "    \n",
    "    offset = abs(head1_size - head2_size)\n",
    "    if head1_size > head2_size:\n",
    "        for _ in range(offset):\n",
    "            cur1 = cur1.next\n",
    "    elif head2_size > head1_size:\n",
    "        for _ in range(offset):\n",
    "            cur2 = cur2.next\n",
    "\n",
    "    while cur1 and cur2:\n",
    "        if cur1 == cur2:\n",
    "            return cur1\n",
    "        \n",
    "        cur1 = cur1.next\n",
    "        cur2 = cur2.next\n",
    "        \n",
    "    return None\n",
    "        \n",
    "    \n",
    "intersection_list = head_from_list(['c1', 'c2', 'c3'])\n",
    "head1 = head_from_list(['a1', 'a2'])\n",
    "head1.next.next = intersection_list\n",
    "head2 = head_from_list(['b1', 'b2', 'b3'])\n",
    "head2.next.next.next = intersection_list\n",
    "\n",
    "pretty_print(intersection(head1, head2))"
   ]
  },
  {
   "attachments": {},
   "cell_type": "markdown",
   "metadata": {},
   "source": [
    "## Rearrange Linked Lists\n",
    "\n",
    "Given the head of a singly LinkedList, reverse all sections separated by *spaces* while maintaining the order of the overall locations the same.\n",
    "\n",
    "**Input:**`'H' -> 'e' -> 'y' -> ' ' -> 'Y' -> 'o' -> 'u'`\n",
    "\n",
    "**Output:** `'y' -> 'e' -> 'H' -> ' ' -> 'u' -> 'o' -> 'Y'`"
   ]
  },
  {
   "cell_type": "code",
   "execution_count": 43,
   "metadata": {},
   "outputs": [
    {
     "name": "stdout",
     "output_type": "stream",
     "text": [
      "y -> e -> H ->   -> d -> l -> r -> o -> W\n"
     ]
    }
   ],
   "source": [
    "def rearrange(head):\n",
    "    def reverse(start, end=None):\n",
    "        if not start:\n",
    "            return None\n",
    "\n",
    "        cur = start\n",
    "        prev = end\n",
    "        while cur != end:\n",
    "            nxt = cur.next\n",
    "            cur.next = prev\n",
    "            prev = cur\n",
    "            cur = nxt\n",
    "\n",
    "        return prev\n",
    "\n",
    "    if not head:\n",
    "        return None\n",
    "\n",
    "    dummy = ListNode('dummy', head)\n",
    "\n",
    "    cur = head\n",
    "    prev = dummy\n",
    "    while cur:\n",
    "        # go the next ' ' or None\n",
    "        end = cur\n",
    "        while end and end.val != ' ':\n",
    "            end = end.next\n",
    "\n",
    "        # reverse [cur, end)\n",
    "        prev.next = reverse(cur, end)\n",
    "\n",
    "        # if you reached the end: stop!\n",
    "        if not end:\n",
    "            break\n",
    "\n",
    "        # adjust pointers (skip space): cur ends on 'H' and end finishes on ' '\n",
    "        prev = cur.next\n",
    "        cur = end.next\n",
    "\n",
    "    return dummy.next\n",
    "\n",
    "\n",
    "head = head_from_list(['H', 'e', 'y', ' ', 'W', 'o', 'r', 'l', 'd'])\n",
    "pretty_print(rearrange(head))"
   ]
  },
  {
   "attachments": {},
   "cell_type": "markdown",
   "metadata": {},
   "source": [
    "## Reorder Linked List\n",
    "\n",
    "Given the `head` of a singly Linked List, reorder the list (in-place) so `l1 -> ln -> l2 -> ln-1 -> l3 -> ln-2`\n",
    "\n",
    "##### Test Case 1\n",
    "**Input:** `1 -> 2 -> 3 -> 4`\n",
    "\n",
    "**Output** `1 -> 4 -> 2 -> 3`\n",
    "\n",
    "##### Test Case 2\n",
    "**Input:** `1 -> 2 -> 3 -> 4 -> 5`\n",
    "\n",
    "**Output** `1 -> 5 -> 2 -> 4 -> 3`"
   ]
  },
  {
   "cell_type": "code",
   "execution_count": 44,
   "metadata": {},
   "outputs": [
    {
     "name": "stdout",
     "output_type": "stream",
     "text": [
      "1 -> 4 -> 2 -> 3\n"
     ]
    }
   ],
   "source": [
    "def reorderList(head):\n",
    "    def reverse(head):\n",
    "        if not head:\n",
    "            return None\n",
    "        \n",
    "        cur = head\n",
    "        prev = None\n",
    "        while cur:\n",
    "            nxt = cur.next\n",
    "            cur.next = prev\n",
    "            prev = cur\n",
    "            cur = nxt\n",
    "            \n",
    "        return prev\n",
    "    \n",
    "    if not head:\n",
    "        return None\n",
    "    \n",
    "    slow = head\n",
    "    fast = head\n",
    "    while fast and fast.next:\n",
    "        slow = slow.next\n",
    "        fast = fast.next.next\n",
    "        \n",
    "    rev = reverse(slow)\n",
    "    \n",
    "    cur = head\n",
    "    while cur and cur.next != rev:\n",
    "        cur_nxt = cur.next\n",
    "        rev_nxt = rev.next\n",
    "        \n",
    "        cur.next = rev\n",
    "        rev.next = cur_nxt\n",
    "        \n",
    "        cur = cur_nxt\n",
    "        rev = rev_nxt\n",
    "        \n",
    "    return head\n",
    "\n",
    "head = head_from_list([1, 2, 3, 4])  # 1 -> 4 -> 2 -> 3\n",
    "reorderList(head)\n",
    "pretty_print(head)"
   ]
  }
 ],
 "metadata": {
  "kernelspec": {
   "display_name": "Python 3",
   "language": "python",
   "name": "python3"
  },
  "language_info": {
   "codemirror_mode": {
    "name": "ipython",
    "version": 3
   },
   "file_extension": ".py",
   "mimetype": "text/x-python",
   "name": "python",
   "nbconvert_exporter": "python",
   "pygments_lexer": "ipython3",
   "version": "3.9.6"
  },
  "orig_nbformat": 4,
  "vscode": {
   "interpreter": {
    "hash": "31f2aee4e71d21fbe5cf8b01ff0e069b9275f58929596ceb00d14d90e3e16cd6"
   }
  }
 },
 "nbformat": 4,
 "nbformat_minor": 2
}
