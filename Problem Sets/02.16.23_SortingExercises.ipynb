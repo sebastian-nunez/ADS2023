{
 "cells": [
  {
   "attachments": {},
   "cell_type": "markdown",
   "metadata": {},
   "source": [
    "# Sorting Exercises"
   ]
  },
  {
   "attachments": {},
   "cell_type": "markdown",
   "metadata": {},
   "source": [
    "## Wiggle Sort\n",
    "\n",
    "Given an array, reorder the elements such that\n",
    "\n",
    "```\n",
    "a[0] <= a[1] >= a[2] <= a[3]…   \n",
    "```\n",
    "\n",
    "There may be more than one valid result, just output any possible result.\n",
    "\n",
    "Example:      \n",
    "```\n",
    "[1, 2, 3, 4, 5] -> [1, 3, 2, 5, 4]      \n",
    "[1, 2, 3, 2, 1] -> [1, 2, 1, 3, 2]    \n",
    "```\n",
    "\n",
    "You must do this in O(nlogn) time.\n",
    "\n",
    "(You can actually do this in O(n) time, but you'd have to do the next question, Median, to know how.)"
   ]
  },
  {
   "cell_type": "code",
   "execution_count": 1,
   "metadata": {},
   "outputs": [
    {
     "name": "stdout",
     "output_type": "stream",
     "text": [
      "[1, 3, 2, 5, 4]\n",
      "[1, 2, 1, 3, 2]\n"
     ]
    }
   ],
   "source": [
    "def wiggle_sort(nums):\n",
    "  nums.sort() # O(nlogn)\n",
    "\n",
    "  for i in range(0, len(nums) - 2, 2):\n",
    "    nums[i + 1], nums[i + 2] = nums[i + 2], nums[i + 1]\n",
    "\n",
    "  return nums\n",
    "\n",
    "nums1 = [1, 2, 3, 4, 5] # [1,3,2,5,4]\n",
    "nums2 = [1, 2, 3, 2, 1] # [1,3,2,2]\n",
    "print(wiggle_sort(nums1))\n",
    "print(wiggle_sort(nums2))"
   ]
  },
  {
   "attachments": {},
   "cell_type": "markdown",
   "metadata": {},
   "source": [
    "## Median\n",
    "\n",
    "Find the median element of an unsorted list in (expected) O(n) runtime.\n",
    "\n",
    "Of course you could sort the list and then get the middle element, but that would take O(nlogn)!\n",
    "\n",
    "If you have an odd number of values, the median is the one with the middlest value. Technically, if you have an even number of values, the median is the average of the two middlest values, but for the purposes of this problem, you can return *either* of the two middlest values.\n",
    "\n",
    "**Hint**: You can find the kth largest element in a list in expected linear time using a method called a 'quickselect' (named for its relation to quicksort). After you partition a list, you know which side the kth largest element must be on based on how many elements are to the left and to the right of the pivot. Remember you can take the partition function from EXAMPLE_quicksort.py if you'd like!\n",
    "\n",
    "**Hint 2**: n + n/2 + n/4 + n/8 + ... + 1 < 2n, which is O(n) still!\n"
   ]
  },
  {
   "cell_type": "code",
   "execution_count": 12,
   "metadata": {},
   "outputs": [
    {
     "name": "stdout",
     "output_type": "stream",
     "text": [
      "18\n",
      "18\n",
      "19\n",
      "12\n"
     ]
    }
   ],
   "source": [
    "def median(nums): # O(n) + O(n) -> O(n)\n",
    "  pivot = nums[-1]\n",
    "\n",
    "  smaller = list()\n",
    "  larger = list()\n",
    "  for i in range(len(nums) - 1): # O(n)\n",
    "    if nums[i] > pivot:\n",
    "      larger.append(nums[i])\n",
    "    elif nums[i] < pivot:\n",
    "      smaller.append(nums[i])\n",
    "    \n",
    "  if len(larger) > len(smaller):\n",
    "    return median([pivot] + larger ) # pivot could be the median\n",
    "  elif len(smaller) > len(larger):\n",
    "    return median(smaller)\n",
    "  else:\n",
    "    return pivot\n",
    "  \n",
    "print(median([30, 12, 19, 26, 6, 15, 18])) # 18\n",
    "print(median([30, 12, 19, 26, 6, 18, 15])) # 18\n",
    "print(median([30, 12, 19])) # 19\n",
    "print(median([30, 12])) # 12"
   ]
  },
  {
   "attachments": {},
   "cell_type": "markdown",
   "metadata": {},
   "source": [
    "## Median Extension\n",
    "\n",
    "Now, assume that every number in the list is between 0 and 100 (inclusive). Can you find a different linear-time solution to the problem?\n",
    "\n",
    "Again, you can return *either* of the middlest elements if you have an even number of elements."
   ]
  },
  {
   "cell_type": "code",
   "execution_count": 13,
   "metadata": {},
   "outputs": [
    {
     "name": "stdout",
     "output_type": "stream",
     "text": [
      "18\n",
      "18\n",
      "19\n",
      "30\n"
     ]
    }
   ],
   "source": [
    "def median_extension(nums): # O(n) + O(n) -> O(n)\n",
    "    buckets = [0 for _ in range(101)]\n",
    "    median = len(nums) // 2 + 1\n",
    "    for num in nums:\n",
    "        buckets[num] += 1\n",
    "\n",
    "    count = 0\n",
    "    for num, freq in enumerate(buckets):\n",
    "        count += freq\n",
    "        if count >= median: # bucket contains the median\n",
    "            return num\n",
    "        \n",
    "    return -1\n",
    "    \n",
    "print(median_extension([30, 12, 19, 26, 6, 15, 18])) # 18\n",
    "print(median_extension([30, 12, 19, 26, 6, 18, 15])) # 18\n",
    "print(median_extension([30, 12, 19])) # 19\n",
    "print(median_extension([30, 12])) # 30"
   ]
  },
  {
   "attachments": {},
   "cell_type": "markdown",
   "metadata": {},
   "source": [
    "## Quick Select"
   ]
  },
  {
   "cell_type": "code",
   "execution_count": 32,
   "metadata": {},
   "outputs": [
    {
     "name": "stdout",
     "output_type": "stream",
     "text": [
      "18\n",
      "18\n",
      "19\n",
      "30\n"
     ]
    }
   ],
   "source": [
    "def partition(lst, low, high):\n",
    "    pivot = lst[high]\n",
    "    smaller = list()\n",
    "    larger = list()\n",
    "\n",
    "    for i in range(low, high):\n",
    "        if lst[i] < pivot:\n",
    "            smaller.append(lst[i])\n",
    "        elif lst[i] > pivot:\n",
    "            larger.append(lst[i])\n",
    "\n",
    "    result = smaller + [pivot] + larger\n",
    "    lst[low:high] = result\n",
    "\n",
    "    return low + len(smaller)\n",
    "\n",
    "\n",
    "def quickselect(nums):\n",
    "    median_index = len(lst) // 2\n",
    "\n",
    "    pivot_index = -1\n",
    "    low = 0\n",
    "    high = len(nums) - 1\n",
    "    while True:\n",
    "        pivot_index = partition(nums, low, high)\n",
    "        \n",
    "        if pivot_index == median_index:\n",
    "            break\n",
    "        elif pivot_index < median_index:\n",
    "            low = pivot_index + 1\n",
    "        else:\n",
    "            high = pivot_index\n",
    "    \n",
    "    return nums[pivot_index]\n",
    "\n",
    "print(quickselect([30, 12, 19, 26, 6, 15, 18])) # 18\n",
    "print(quickselect([30, 12, 19, 26, 6, 18, 15])) # 18\n",
    "print(quickselect([30, 12, 19,11,13])) # 19\n",
    "print(quickselect([30, 12])) # 30"
   ]
  }
 ],
 "metadata": {
  "kernelspec": {
   "display_name": "Python 3",
   "language": "python",
   "name": "python3"
  },
  "language_info": {
   "codemirror_mode": {
    "name": "ipython",
    "version": 3
   },
   "file_extension": ".py",
   "mimetype": "text/x-python",
   "name": "python",
   "nbconvert_exporter": "python",
   "pygments_lexer": "ipython3",
   "version": "3.9.6"
  },
  "orig_nbformat": 4,
  "vscode": {
   "interpreter": {
    "hash": "31f2aee4e71d21fbe5cf8b01ff0e069b9275f58929596ceb00d14d90e3e16cd6"
   }
  }
 },
 "nbformat": 4,
 "nbformat_minor": 2
}
