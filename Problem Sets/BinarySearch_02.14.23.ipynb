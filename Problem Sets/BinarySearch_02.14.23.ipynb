{
 "cells": [
  {
   "attachments": {},
   "cell_type": "markdown",
   "metadata": {},
   "source": [
    "## First Bad Version\n",
    "Oh no! There's a bug in your code. All you know is that there's a bug in your newest version, version number `31415926535` (the first version is 0). In what version was the bug introduced (i.e. what is the first version that has an error)?\n",
    "\n",
    "*You can assume that every version up until the first bad version has no errors, and every version starting with the first bad version does have bugs.*\n",
    "\n",
    "Within the first_bad_version.py file, you can call the function is_bad_version(n), where n is a version number to determine if a version has a bug in it. The function will return True if the version has a bug in it, and False if it has no errors.\n",
    "\n",
    "You must do this using binary search, not linear search. You may not create any lists.\n",
    "\n",
    "**Hint:** What is true about the first bad version in relation to its neighboring versions that is not true of other bad versions? You can modify binary search to search for this criteria."
   ]
  },
  {
   "cell_type": "code",
   "execution_count": 5,
   "metadata": {},
   "outputs": [
    {
     "name": "stdout",
     "output_type": "stream",
     "text": [
      "16128675309\n",
      "False\n"
     ]
    }
   ],
   "source": [
    "def is_bad_version(num):\n",
    "  return num >= 16128675309\n",
    "\n",
    "def binary_search(low, high):\n",
    "    if low > high:\n",
    "      return -1\n",
    "      \n",
    "    mid = low + (high - low) // 2\n",
    "\n",
    "    # If our current index is a bad version, and the one before isnt, we found it!\n",
    "    if is_bad_version(mid) and not is_bad_version(mid - 1):\n",
    "      return mid\n",
    "    # Our current value is bad, but we still have to check before that\n",
    "    elif is_bad_version(mid):\n",
    "      return binary_search(low, mid - 1)\n",
    "    #Our current value is good, so we check after that\n",
    "    else:\n",
    "      return binary_search(mid + 1, high)\n",
    "\n",
    "\n",
    "print(binary_search(0, 31415926535))\n",
    "print(is_bad_version(16128675308))"
   ]
  },
  {
   "attachments": {},
   "cell_type": "markdown",
   "metadata": {},
   "source": [
    "## Rotated List\n",
    "You thought you had a sorted list, but some jokester came by and rotated it! For example, your list might look like this:\n",
    "\n",
    "`[65, 78, 79, 112, 644, 1612, 2000, 2001, 7, 12, 19, 20, 21, 57]`\n",
    "\n",
    "(See that a sorted list has been shifted 8 places to the right to make this rotated list.)\n",
    "\n",
    "Write a binary search that can find any number in such a list in O(log(n)) time.\n",
    "\n",
    "Hint: Can you find where the rotation occurs in O(log(n)) time? Then, can you find the number you're looking for in O(log(n)) time? O(log(n)) + O(log(n)) is still O(log(n))!"
   ]
  },
  {
   "cell_type": "code",
   "execution_count": null,
   "metadata": {},
   "outputs": [],
   "source": [
    "def rotated_list(nums):\n",
    "    pass"
   ]
  },
  {
   "attachments": {},
   "cell_type": "markdown",
   "metadata": {},
   "source": [
    "## Sorted Matrix\n",
    "\n",
    "You have a 2D matrix (a list of lists) that is sorted so that the numbers in each list is in order, and the first number in any list is greater than or equal to every number in each list that comes before it, like this:\n",
    "\n",
    "`[[23, 36, 74, 80, 121, 181, 191, 215, 226, 229],\n",
    "[238, 250, 288, 316, 351, 363, 391, 416, 456, 459],\n",
    "[465, 467, 467, 490, 525, 544, 583, 598, 682, 688],\n",
    "[689, 739, 834, 836, 840, 887, 927, 932, 934, 937],\n",
    "[961, 999, 1008, 1026, 1050, 1062, 1100, 1102, 1106, 1111],\n",
    "[1119, 1130, 1136, 1152, 1181, 1250, 1335, 1337, 1349, 1358],\n",
    "[1370, 1455, 1462, 1477, 1492, 1528, 1534, 1535, 1547, 1580],\n",
    "[1600, 1653, 1691, 1692, 1732, 1766, 1780, 1788, 1801, 1807],\n",
    "[1818, 1819, 1877, 1904, 1918, 1935, 1969, 1982, 2013, 2049],\n",
    "[2056, 2086, 2107, 2137, 2138, 2181, 2218, 2219, 2226, 2259]]`\n",
    "\n",
    "(Feel free to copy this matrix to test with.)\n",
    "\n",
    "Write a function that takes in such a `matrix`, as well as a `target` number, and returns whether or not the target is in the matrix.\n",
    "\n",
    "Solve this problem in O(log(m)) + O(log(n)) time where m is the number of lists and n is the maximum length of any of the lists.\n",
    "\n",
    "**Hint:** Can you find which row the number should be in in O(log(m)) time? Then can you find the number in O(log(n)) time?"
   ]
  },
  {
   "cell_type": "code",
   "execution_count": 7,
   "metadata": {},
   "outputs": [
    {
     "name": "stdout",
     "output_type": "stream",
     "text": [
      "[-1, -1]\n",
      "[-1, -1]\n"
     ]
    }
   ],
   "source": [
    "def binary_search(target, values):\n",
    "  def helper(target, values, left, right):\n",
    "    if (left > right):\n",
    "      return False\n",
    "    mid = (left + right) // 2\n",
    "    if (values[mid] == target):\n",
    "      return mid\n",
    "    if (values[mid] > target):\n",
    "      return helper(target, values, left, mid - 1)\n",
    "    else:\n",
    "      return helper(target, values, mid + 1, right)\n",
    "\n",
    "  return helper(target, values, 0, len(values) - 1)\n",
    "\n",
    "def find_row(matrix, target):\n",
    "  num_rows = len(matrix)\n",
    "  low, high = 0, num_rows - 1\n",
    "\n",
    "  while low <= high:\n",
    "    mid = low + (high - low) // 2\n",
    "\n",
    "    if target >= matrix[mid][0] and target <= matrix[mid][-1]:\n",
    "      return mid\n",
    "    elif target > matrix[mid][0]:  # target is in a row above mid\n",
    "      low = mid + 1\n",
    "    else:\n",
    "      high = mid - 1  # target is in a row below mid\n",
    "      \n",
    "    return -1\n",
    "  \n",
    "# returns [row, column] where the number was found\n",
    "def search_matrix(matrix, target):\n",
    "  # 1. find the row\n",
    "  row_to_search = find_row(matrix, target)\n",
    "\n",
    "  # 2. find the target within the row (col)\n",
    "  if row_to_search != -1:\n",
    "    return [row_to_search, binary_search(target, matrix[row_to_search])]\n",
    "  else:\n",
    "    return [-1, -1]\n",
    "\n",
    "\n",
    "matrix_2d = [[23, 36, 74, 80, 121, 181, 191, 215, 226, 229],\n",
    "             [238, 250, 288, 316, 351, 363, 391, 416, 456, 459],\n",
    "             [465, 467, 467, 490, 525, 544, 583, 598, 682, 688],\n",
    "             [689, 739, 834, 836, 840, 887, 927, 932, 934, 937],\n",
    "             [961, 999, 1008, 1026, 1050, 1062, 1100, 1102, 1106, 1111],\n",
    "             [1119, 1130, 1136, 1152, 1181, 1250, 1335, 1337, 1349, 1358],\n",
    "             [1370, 1455, 1462, 1477, 1492, 1528, 1534, 1535, 1547, 1580],\n",
    "             [1600, 1653, 1691, 1692, 1732, 1766, 1780, 1788, 1801, 1807],\n",
    "             [1818, 1819, 1877, 1904, 1918, 1935, 1969, 1982, 2013, 2049],\n",
    "             [2056, 2086, 2107, 2137, 2138, 2181, 2218, 2219, 2226, 2259]]\n",
    "\n",
    "matrix_2d_simple = [[1, 2, 3], [4, 5, 6], [7, 8, 9]]\n",
    "\n",
    "print(search_matrix(matrix_2d, 1780))  # [7, 6]\n",
    "print(search_matrix(matrix_2d_simple, 8))  # [2, 1]"
   ]
  }
 ],
 "metadata": {
  "kernelspec": {
   "display_name": "Python 3",
   "language": "python",
   "name": "python3"
  },
  "language_info": {
   "codemirror_mode": {
    "name": "ipython",
    "version": 3
   },
   "file_extension": ".py",
   "mimetype": "text/x-python",
   "name": "python",
   "nbconvert_exporter": "python",
   "pygments_lexer": "ipython3",
   "version": "3.9.6"
  },
  "orig_nbformat": 4,
  "vscode": {
   "interpreter": {
    "hash": "31f2aee4e71d21fbe5cf8b01ff0e069b9275f58929596ceb00d14d90e3e16cd6"
   }
  }
 },
 "nbformat": 4,
 "nbformat_minor": 2
}
