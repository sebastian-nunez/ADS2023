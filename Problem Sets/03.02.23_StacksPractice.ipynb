{
 "cells": [
  {
   "attachments": {},
   "cell_type": "markdown",
   "metadata": {},
   "source": [
    "## Balanced Parentheses\n",
    "Write a function `balanced` that takes a sequence of parentheses and returns `True` if they are balanced; `False`, otherwise. Remember that a string of parentheses is balanced or *well-formed* if each open paren is closed before each open paren that comes before it.\n",
    "\n",
    "You may have solved this problem with recursion way back in unit 3, but you won't need it this time!\n",
    "\n",
    "Examples:\n",
    "```python\n",
    "'(()(()))()' → True\n",
    "'(()()' → False\n",
    "')(' → False\n",
    "```"
   ]
  },
  {
   "cell_type": "code",
   "execution_count": 2,
   "metadata": {},
   "outputs": [],
   "source": [
    "from collections import deque\n",
    "\n",
    "class ListNode:\n",
    "\n",
    "  def __init__(self, val, next=None):\n",
    "    self.val = val\n",
    "    self.next = next\n",
    "\n",
    "\n",
    "def pretty_print(head):\n",
    "  temp = head\n",
    "  while temp:\n",
    "    if temp.next:\n",
    "      print(temp.val, end=' -> ')\n",
    "    else:\n",
    "      print(temp.val)\n",
    "    temp = temp.next\n",
    "\n",
    "\n",
    "def head_from_list(lst):\n",
    "  if not lst:\n",
    "    return None\n",
    "\n",
    "  head = ListNode(lst[0], None)\n",
    "\n",
    "  temp = None\n",
    "  prev = head\n",
    "\n",
    "  for i in range(1, len(lst)):\n",
    "    val = lst[i]\n",
    "    temp = ListNode(val, None)\n",
    "    prev.next = temp\n",
    "    prev = temp\n",
    "\n",
    "  return head\n",
    "\n"
   ]
  },
  {
   "cell_type": "code",
   "execution_count": 3,
   "metadata": {},
   "outputs": [
    {
     "name": "stdout",
     "output_type": "stream",
     "text": [
      "True\n",
      "False\n",
      "False\n",
      "True\n",
      "False\n"
     ]
    }
   ],
   "source": [
    "def is_balanced(s):\n",
    "    if s is None:\n",
    "        return False\n",
    "    \n",
    "    stack = deque()\n",
    "    \n",
    "    for paren in s:\n",
    "        if paren == '(':\n",
    "            stack.append(paren)\n",
    "        else:\n",
    "            if stack and stack[-1] == '(' and paren == ')':\n",
    "                stack.pop()\n",
    "                \n",
    "    return not stack\n",
    "\n",
    "ex1 = \"(()(()))()\"\n",
    "ex2 = \"(()()\"\n",
    "ex3 = \")(\"\n",
    "ex4 = \"\"\n",
    "ex5 = None\n",
    "print(is_balanced(ex1))\n",
    "print(is_balanced(ex2))\n",
    "print(is_balanced(ex3))\n",
    "print(is_balanced(ex4))\n",
    "print(is_balanced(ex5))"
   ]
  },
  {
   "attachments": {},
   "cell_type": "markdown",
   "metadata": {},
   "source": [
    "## Extension 1\n",
    "Can you make your program handle other types of paired characters, like [], {}, and <> without duplicating a bunch of logic?\n",
    "\n",
    "For example, these are balanced:\n",
    "```\n",
    "'{{([][])}()}'\n",
    "'[[{{(())}}]]'\n",
    "'[][][](){}'\n",
    "```\n",
    "\n",
    "but these are not:\n",
    "```\n",
    "'([)]'\n",
    "'((()]))'\n",
    "'[{()]'\n",
    "\n",
    "```"
   ]
  },
  {
   "cell_type": "code",
   "execution_count": 4,
   "metadata": {},
   "outputs": [
    {
     "name": "stdout",
     "output_type": "stream",
     "text": [
      "True\n",
      "True\n",
      "True\n",
      "False\n",
      "False\n",
      "False\n",
      "False\n"
     ]
    }
   ],
   "source": [
    "def is_balanced_extension_1(s):\n",
    "    if s is None:\n",
    "        return False\n",
    "    \n",
    "    stack = deque()\n",
    "    paren_map = {\"(\": \")\", \"{\": \"}\", \"[\": \"]\", \"<\": \">\"}\n",
    "    for paren in s:\n",
    "        if paren in paren_map:\n",
    "            stack.append(paren)\n",
    "        else:\n",
    "            if stack and paren == paren_map[stack[-1]]:\n",
    "                stack.pop()\n",
    "            else:\n",
    "                return False\n",
    "                \n",
    "    return not stack\n",
    "\n",
    "ex1 = \"{{([][])}()}\"\n",
    "ex2 = \"[[{{(())}}]]\"\n",
    "ex3 = \"[][][](){}\"\n",
    "ex4 = \"[{()]\"\n",
    "ex5 = None\n",
    "ex6 = \"((()]))\"\n",
    "ex7 = \"][]\"\n",
    "print(is_balanced_extension_1(ex1)) # True\n",
    "print(is_balanced_extension_1(ex2)) # True\n",
    "print(is_balanced_extension_1(ex3)) # True\n",
    "print(is_balanced_extension_1(ex4)) # False\n",
    "print(is_balanced_extension_1(ex5)) # False\n",
    "print(is_balanced_extension_1(ex6)) # False\n",
    "print(is_balanced_extension_1(ex7)) # False"
   ]
  },
  {
   "attachments": {},
   "cell_type": "markdown",
   "metadata": {},
   "source": [
    "## Extension 2\n",
    "\n",
    "What about \"\" and '' in addition to the previous? These ones aren't allowed to nest, and the openers are the same as the matching closers!\n",
    "\n",
    "**Note**: In order to type a single quote character inside a String defined by single quotes, you can 'escape' it with the \\ character. To use a double quote character, you don't need to escape it. Like this:\n",
    "\n",
    "```python\n",
    "single_quote = '\\''\n",
    "double_quote = '\"'\n",
    "```\n",
    "\n",
    "Example of a balanced String (note that the first and last single quotes are **defining** the String, not part of the String):\n",
    "```\n",
    "s = '((\\'[\"{}\"]\\'))'\n",
    "```\n",
    "\n",
    "Example of an unbalanced String (note that the first and last single quotes are **defining** the String, not part of the String):\n",
    "\n",
    "```\n",
    "s = '(\")\"'\n",
    "```"
   ]
  },
  {
   "cell_type": "code",
   "execution_count": 5,
   "metadata": {},
   "outputs": [
    {
     "name": "stdout",
     "output_type": "stream",
     "text": [
      "True\n",
      "False\n",
      "True\n",
      "True\n",
      "True\n",
      "False\n",
      "False\n"
     ]
    }
   ],
   "source": [
    "def is_balanced_extension_2(s):\n",
    "    if s is None:\n",
    "        return False\n",
    "    \n",
    "    \n",
    "    paren_map = {\"(\": \")\", \"{\": \"}\", \"[\": \"]\", \"<\": \">\"}\n",
    "    separators = set({'\\'', '\\\"'})\n",
    "    \n",
    "    stack = deque()\n",
    "    for paren in s:\n",
    "        if paren in separators: # separators\n",
    "            sep = paren\n",
    "            \n",
    "            if stack:\n",
    "                if stack[-1] == sep:\n",
    "                    stack.pop()\n",
    "                else:\n",
    "                    stack.append(sep)\n",
    "            else: \n",
    "                stack.append(sep)    \n",
    "        elif paren in paren_map: # open parenthesis\n",
    "            stack.append(paren)\n",
    "        else: # closed parenthesis\n",
    "            if stack and paren == paren_map.get(stack[-1]):\n",
    "                stack.pop()\n",
    "            else:\n",
    "                return False\n",
    "                \n",
    "    return not stack\n",
    "\n",
    "ex4 = \"\\'\\'\" \n",
    "ex5 = '\\\"(\\\"'\n",
    "ex6 = '\\\"()\\\"'\n",
    "ex7 = '(\"\"[]\"\")'\n",
    "ex8 = '((\\'[\"{}\"]\\'))'\n",
    "ex9 = '(\\\")\\\"'\n",
    "ex10 = '(\"\"[]\\'\")'\n",
    "\n",
    "print(is_balanced_extension_2(ex4)) # True\n",
    "print(is_balanced_extension_2(ex5)) # False\n",
    "print(is_balanced_extension_2(ex6)) # True\n",
    "print(is_balanced_extension_2(ex7)) # True\n",
    "print(is_balanced_extension_2(ex8)) # True\n",
    "print(is_balanced_extension_2(ex9)) # False\n",
    "print(is_balanced_extension_2(ex10)) # False"
   ]
  },
  {
   "attachments": {},
   "cell_type": "markdown",
   "metadata": {},
   "source": [
    "## RPN (Reverse Polish Notation)\n",
    "\n",
    "Reverse Polish Notation is a way to express mathematical formulas used by old calculators. Here's an example of a normal expression and its RPN equivalent:\n",
    "\n",
    "```(3+5)*(4-6) -> 35+46-*```\n",
    "\n",
    "The operator comes after the two pieces it operates on, so `3 5 +` means that we operate on the 3 and the 5 with a plus sign. The `4 6 -` means we operate on the 4 and the 6 with the minus sign. And then the `*` at the end means we operate on the results of the two previous operations with multiplication! This is exactly the same thing being expressed by the original formula, except no parentheses are needed.\n",
    "\n",
    "**Your task is to write a function that takes an RPN expression (like 35+46-*) and evaluate it (-16).**\n",
    "To evaluate an RPN expression, use this algorithm:\n",
    "- Create an empty stack\n",
    "- Iterate through the expression symbol by symbol\n",
    "  - If you see a number, push it onto your stack\n",
    "  - When you see an operator, pop the top two numbers off the stack and operate on them using that operator\n",
    "    - Then push the result back onto the stack\n",
    "\n",
    "When you're done iterating, the stack should have exactly one element in it, which is the result!\n",
    "\n",
    "You can assume every number in the original expression is just one digit, and that the only other symbols are +, -, *, and /."
   ]
  },
  {
   "cell_type": "code",
   "execution_count": 6,
   "metadata": {},
   "outputs": [
    {
     "name": "stdout",
     "output_type": "stream",
     "text": [
      "-16\n"
     ]
    }
   ],
   "source": [
    "def rpn(s):\n",
    "  def perform_operation(num1, num2, op):\n",
    "    if op == \"+\":\n",
    "      return num1 + num2\n",
    "    elif op == '-':\n",
    "      return num1 - num2\n",
    "    elif op == '*':\n",
    "      return num1 * num2 \n",
    "    elif op == '/':\n",
    "      if num2 == 0:\n",
    "        raise Exception(\"Can't divide by zero!\")\n",
    "      return num1 / num2\n",
    "    else:\n",
    "      raise Exception(\"Invalid operation!\")\n",
    "      \n",
    "  stack = deque()\n",
    "  valid_ops = set({\"+\", \"-\", \"*\", \"/\"})\n",
    "  for char in s:\n",
    "    if char not in valid_ops:\n",
    "      stack.append(int(char))\n",
    "    else:\n",
    "      num2 = stack.pop()\n",
    "      num1 = stack.pop()\n",
    "      res = perform_operation(num1,num2,char)\n",
    "      stack.append(res)\n",
    "  \n",
    "  return stack[-1]\n",
    "\n",
    "print(rpn(\"35+46-*\"))"
   ]
  },
  {
   "attachments": {},
   "cell_type": "markdown",
   "metadata": {},
   "source": [
    "## Reverse a LinkedList\n",
    "\n",
    "Given the head of a LinkedList, reverse the list and return the new head!"
   ]
  },
  {
   "cell_type": "code",
   "execution_count": 7,
   "metadata": {},
   "outputs": [
    {
     "name": "stdout",
     "output_type": "stream",
     "text": [
      "deque([<__main__.ListNode object at 0x10b024910>, <__main__.ListNode object at 0x10b024ca0>, <__main__.ListNode object at 0x10b0244c0>, <__main__.ListNode object at 0x10b024520>])\n",
      "4 -> 3 -> 2 -> 1\n"
     ]
    }
   ],
   "source": [
    "def reverse(head):\n",
    "  if not head:\n",
    "    return None\n",
    "  \n",
    "  # 1. adds all numbers to the stack\n",
    "  stack = deque()\n",
    "  \n",
    "  cur = head\n",
    "  while cur:\n",
    "    stack.append(cur)\n",
    "    cur = cur.next\n",
    "  \n",
    "  print(stack)\n",
    "  # 2. pop everything off\n",
    "  dummy = ListNode('dummy')\n",
    "\n",
    "  cur = dummy\n",
    "  while stack:\n",
    "    node = stack.pop()\n",
    "    node.next = None # clean up tail\n",
    "    \n",
    "    cur.next = node\n",
    "    cur = cur.next\n",
    "    \n",
    " \n",
    "  return dummy.next\n",
    "  \n",
    "head = head_from_list([1,2,3,4]) \n",
    "# pretty_print(head)\n",
    "\n",
    "pretty_print(reverse(head)) # 4 -> 3 -> 2 -> 1"
   ]
  },
  {
   "attachments": {},
   "cell_type": "markdown",
   "metadata": {},
   "source": [
    "## Asteroid Collision\n",
    "\n",
    "The input to this function is a list `a`, where each `a[i]` is an integer. Each value of `a` represents an asteroid. For each asteroid, the absolute value represents its size, and the sign represents its direction (positive meaning moving right, negative meaning moving left). Each asteroid moves at the same speed. For example, if `asteroids[2] == -7`, asteroid 2 has size 7 and is moving to the left.\n",
    "\n",
    "The asteroids are all in a line and go from left to right - i.e. asteroid 0 is on the left of asteroid 1, which is on the left of asteroid 2, and so on.\n",
    "\n",
    "Find out the state of the asteroids after all collisions. If two asteroids meet, the smaller one will explode. If both are the same size, both will explode. Two asteroids moving in the same direction will never meet.\n",
    "\n",
    "Example:\n",
    "```\n",
    "Input: [-3, 7, 4, 2, 0, -7. -8, -9]\n",
    "Output: [-3, -8, -9]\n",
    "Explanation: All of the right-moving asteroids (as well as the 0) will be destroyed by the -7. Both the 7 and the -7 are destroyed when they collide with each other. The -3, -8, and -9 continue moving left but never meet.\n",
    "```\n",
    "\n",
    "**Hint:** The first asteroid, on its own, doesn't collide with anything. Does the asteroid to the right of it collide with it? After those resolve, what happens with the asteroid to the right of that? And so on..."
   ]
  },
  {
   "cell_type": "code",
   "execution_count": 32,
   "metadata": {},
   "outputs": [
    {
     "name": "stdout",
     "output_type": "stream",
     "text": [
      "[-3, -8, -9]\n",
      "[5, 10]\n",
      "[]\n"
     ]
    }
   ],
   "source": [
    "def asteroids(asteroids):\n",
    "    if not asteroids:\n",
    "        return None\n",
    "    \n",
    "    stack = list()\n",
    "    for ast in asteroids:\n",
    "        while stack and stack[-1] > 0 and ast < 0:\n",
    "            if stack[-1] > abs(ast):\n",
    "                ast = 0\n",
    "            elif abs(ast) > stack[-1]:\n",
    "                stack.pop()\n",
    "            else:\n",
    "                ast = 0\n",
    "                stack.pop()\n",
    "                \n",
    "        if ast != 0:\n",
    "            stack.append(ast)\n",
    "            \n",
    "    return stack\n",
    "\n",
    "print(asteroids([-3, 7, 4, 2, 0, -7, -8, -9])) # [-3, -8, -9]\n",
    "print(asteroids([5,10,-5])) # [5, 10]\n",
    "print(asteroids([8,-8])) # []"
   ]
  },
  {
   "cell_type": "code",
   "execution_count": 30,
   "metadata": {},
   "outputs": [
    {
     "name": "stdout",
     "output_type": "stream",
     "text": [
      "[-3, -8, -9]\n",
      "[5, 10]\n",
      "[]\n"
     ]
    }
   ],
   "source": [
    "def asteroids(asteroids):\n",
    "    stack = deque()\n",
    "    stack.append(asteroids[0])\n",
    "\n",
    "    for i in range(1, len(asteroids)):\n",
    "        ast = asteroids[i]\n",
    "        \n",
    "        while stack and stack[-1] > 0 and ast and ast < 0:\n",
    "            top = stack[-1]\n",
    "            if top > abs(ast):\n",
    "                ast = None\n",
    "            elif abs(ast) > top:\n",
    "                stack.pop()\n",
    "            else:\n",
    "                ast = None\n",
    "                stack.pop()\n",
    "                \n",
    "        if ast:\n",
    "            stack.append(ast)\n",
    "            \n",
    "    return list(stack)\n",
    "\n",
    "print(asteroids([-3, 7, 4, 2, 0, -7, -8, -9])) # [-3, -8, -9]\n",
    "print(asteroids([5,10,-5])) # [5, 10]\n",
    "print(asteroids([8,-8])) # []"
   ]
  }
 ],
 "metadata": {
  "kernelspec": {
   "display_name": "Python 3",
   "language": "python",
   "name": "python3"
  },
  "language_info": {
   "codemirror_mode": {
    "name": "ipython",
    "version": 3
   },
   "file_extension": ".py",
   "mimetype": "text/x-python",
   "name": "python",
   "nbconvert_exporter": "python",
   "pygments_lexer": "ipython3",
   "version": "3.9.6"
  },
  "orig_nbformat": 4,
  "vscode": {
   "interpreter": {
    "hash": "31f2aee4e71d21fbe5cf8b01ff0e069b9275f58929596ceb00d14d90e3e16cd6"
   }
  }
 },
 "nbformat": 4,
 "nbformat_minor": 2
}
