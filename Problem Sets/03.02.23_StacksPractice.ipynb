{
 "cells": [
  {
   "attachments": {},
   "cell_type": "markdown",
   "metadata": {},
   "source": [
    "## Balanced Parentheses\n",
    "Write a function `balanced` that takes a sequence of parentheses and returns `True` if they are balanced; `False`, otherwise. Remember that a string of parentheses is balanced or *well-formed* if each open paren is closed before each open paren that comes before it.\n",
    "\n",
    "You may have solved this problem with recursion way back in unit 3, but you won't need it this time!\n",
    "\n",
    "Examples:\n",
    "```python\n",
    "'(()(()))()' → True\n",
    "'(()()' → False\n",
    "')(' → False\n",
    "```"
   ]
  },
  {
   "cell_type": "code",
   "execution_count": 1,
   "metadata": {},
   "outputs": [],
   "source": [
    "from collections import deque"
   ]
  },
  {
   "cell_type": "code",
   "execution_count": 4,
   "metadata": {},
   "outputs": [
    {
     "name": "stdout",
     "output_type": "stream",
     "text": [
      "True\n",
      "False\n",
      "False\n",
      "True\n",
      "False\n"
     ]
    }
   ],
   "source": [
    "def is_balanced(s):\n",
    "    if s is None:\n",
    "        return False\n",
    "    \n",
    "    stack = deque()\n",
    "    \n",
    "    for paren in s:\n",
    "        if paren == '(':\n",
    "            stack.append(paren)\n",
    "        else:\n",
    "            if stack and stack[-1] == '(' and paren == ')':\n",
    "                stack.pop()\n",
    "                \n",
    "    return not stack\n",
    "\n",
    "ex1 = \"(()(()))()\"\n",
    "ex2 = \"(()()\"\n",
    "ex3 = \")(\"\n",
    "ex4 = \"\"\n",
    "ex5 = None\n",
    "print(is_balanced(ex1))\n",
    "print(is_balanced(ex2))\n",
    "print(is_balanced(ex3))\n",
    "print(is_balanced(ex4))\n",
    "print(is_balanced(ex5))"
   ]
  },
  {
   "attachments": {},
   "cell_type": "markdown",
   "metadata": {},
   "source": [
    "## Extension 1\n",
    "Can you make your program handle other types of paired characters, like [], {}, and <> without duplicating a bunch of logic?\n",
    "\n",
    "For example, these are balanced:\n",
    "```\n",
    "'{{([][])}()}'\n",
    "'[[{{(())}}]]'\n",
    "'[][][](){}'\n",
    "```\n",
    "\n",
    "but these are not:\n",
    "```\n",
    "'([)]'\n",
    "'((()]))'\n",
    "'[{()]'\n",
    "\n",
    "```"
   ]
  },
  {
   "cell_type": "code",
   "execution_count": 8,
   "metadata": {},
   "outputs": [
    {
     "name": "stdout",
     "output_type": "stream",
     "text": [
      "True\n",
      "True\n",
      "True\n",
      "False\n",
      "False\n",
      "False\n",
      "False\n"
     ]
    }
   ],
   "source": [
    "def is_balanced_extension_1(s):\n",
    "    if s is None:\n",
    "        return False\n",
    "    \n",
    "    stack = deque()\n",
    "    paren_map = {\"(\": \")\", \"{\": \"}\", \"[\": \"]\", \"<\": \">\"}\n",
    "    for paren in s:\n",
    "        if paren in paren_map:\n",
    "            stack.append(paren)\n",
    "        else:\n",
    "            if stack and paren == paren_map[stack[-1]]:\n",
    "                stack.pop()\n",
    "            else:\n",
    "                return False\n",
    "                \n",
    "    return not stack\n",
    "\n",
    "ex1 = \"{{([][])}()}\"\n",
    "ex2 = \"[[{{(())}}]]\"\n",
    "ex3 = \"[][][](){}\"\n",
    "ex4 = \"[{()]\"\n",
    "ex5 = None\n",
    "ex6 = \"((()]))\"\n",
    "ex7 = \"][]\"\n",
    "print(is_balanced_extension_1(ex1)) # True\n",
    "print(is_balanced_extension_1(ex2)) # True\n",
    "print(is_balanced_extension_1(ex3)) # True\n",
    "print(is_balanced_extension_1(ex4)) # False\n",
    "print(is_balanced_extension_1(ex5)) # False\n",
    "print(is_balanced_extension_1(ex6)) # False\n",
    "print(is_balanced_extension_1(ex7)) # False"
   ]
  },
  {
   "attachments": {},
   "cell_type": "markdown",
   "metadata": {},
   "source": [
    "## Extension 2\n",
    "\n",
    "What about \"\" and '' in addition to the previous? These ones aren't allowed to nest, and the openers are the same as the matching closers!\n",
    "\n",
    "**Note**: In order to type a single quote character inside a String defined by single quotes, you can 'escape' it with the \\ character. To use a double quote character, you don't need to escape it. Like this:\n",
    "\n",
    "```python\n",
    "single_quote = '\\''\n",
    "double_quote = '\"'\n",
    "```\n",
    "\n",
    "Example of a balanced String (note that the first and last single quotes are **defining** the String, not part of the String):\n",
    "```\n",
    "s = '((\\'[\"{}\"]\\'))'\n",
    "```\n",
    "\n",
    "Example of an unbalanced String (note that the first and last single quotes are **defining** the String, not part of the String):\n",
    "\n",
    "```\n",
    "s = '(\")\"'\n",
    "```"
   ]
  },
  {
   "cell_type": "code",
   "execution_count": 34,
   "metadata": {},
   "outputs": [
    {
     "name": "stdout",
     "output_type": "stream",
     "text": [
      "True\n",
      "False\n",
      "True\n",
      "True\n",
      "True\n",
      "False\n"
     ]
    }
   ],
   "source": [
    "def is_balanced_extension_2(s):\n",
    "    if s is None:\n",
    "        return False\n",
    "    \n",
    "    \n",
    "    paren_map = {\"(\": \")\", \"{\": \"}\", \"[\": \"]\", \"<\": \">\"}\n",
    "    separators = set({'\\'', '\\\"'})\n",
    "    \n",
    "    stack = deque()\n",
    "    for paren in s:\n",
    "        if paren in separators: # separators\n",
    "            sep = paren\n",
    "            \n",
    "            if not stack:\n",
    "                stack.append(sep)\n",
    "            else:\n",
    "                if stack[-1] != sep:\n",
    "                    stack.append(sep)\n",
    "                else:\n",
    "                    stack.pop() # pop the separator (expression was matched)\n",
    "                \n",
    "            continue\n",
    "                \n",
    "        if paren in paren_map:\n",
    "            stack.append(paren)\n",
    "        else:\n",
    "            if stack and paren == paren_map.get(stack[-1]): # some sort of key error when using [] notation\n",
    "                stack.pop()\n",
    "            else:\n",
    "                return False\n",
    "                \n",
    "    return not stack\n",
    "\n",
    "ex4 = \"\\'\\'\" \n",
    "ex5 = '\\\"(\\\"'\n",
    "ex6 = '\\\"()\\\"'\n",
    "ex7 = '(\"[]\")'\n",
    "ex8 = '((\\'[\"{}\"]\\'))'\n",
    "ex9 = '(\\\")\\\"'\n",
    "\n",
    "print(is_balanced_extension_2(ex4)) # True\n",
    "print(is_balanced_extension_2(ex5)) # False\n",
    "print(is_balanced_extension_2(ex6)) # True\n",
    "print(is_balanced_extension_2(ex7)) # True\n",
    "print(is_balanced_extension_2(ex8)) # True\n",
    "print(is_balanced_extension_2(ex9)) # False"
   ]
  },
  {
   "cell_type": "code",
   "execution_count": null,
   "metadata": {},
   "outputs": [],
   "source": []
  }
 ],
 "metadata": {
  "kernelspec": {
   "display_name": "Python 3",
   "language": "python",
   "name": "python3"
  },
  "language_info": {
   "codemirror_mode": {
    "name": "ipython",
    "version": 3
   },
   "file_extension": ".py",
   "mimetype": "text/x-python",
   "name": "python",
   "nbconvert_exporter": "python",
   "pygments_lexer": "ipython3",
   "version": "3.9.6"
  },
  "orig_nbformat": 4,
  "vscode": {
   "interpreter": {
    "hash": "31f2aee4e71d21fbe5cf8b01ff0e069b9275f58929596ceb00d14d90e3e16cd6"
   }
  }
 },
 "nbformat": 4,
 "nbformat_minor": 2
}
