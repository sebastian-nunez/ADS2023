{
 "cells": [
  {
   "attachments": {},
   "cell_type": "markdown",
   "metadata": {},
   "source": [
    "# Sorting Algorithms"
   ]
  },
  {
   "attachments": {},
   "cell_type": "markdown",
   "metadata": {},
   "source": [
    "## Insertion Sort - O(n^2)"
   ]
  },
  {
   "cell_type": "code",
   "execution_count": 9,
   "metadata": {},
   "outputs": [
    {
     "name": "stdout",
     "output_type": "stream",
     "text": [
      "[12, 23, 31, 53, 58]\n"
     ]
    }
   ],
   "source": [
    "def insertion_sort(nums):\n",
    "    for i in range(1, len(nums)):\n",
    "\n",
    "        j = i - 1\n",
    "        while j >= 0 and nums[j+1] < nums[j]:\n",
    "            nums[j+1], nums[j] = nums[j], nums[j+1]\n",
    "            j -= 1\n",
    "        \n",
    "    return nums\n",
    " \n",
    "unsorted_nums = [31,23,53,12,58]\n",
    "print(insertion_sort(unsorted_nums))"
   ]
  },
  {
   "attachments": {},
   "cell_type": "markdown",
   "metadata": {},
   "source": [
    "## Bubble Sort - O(n^2)"
   ]
  },
  {
   "cell_type": "code",
   "execution_count": 1,
   "metadata": {},
   "outputs": [
    {
     "name": "stdout",
     "output_type": "stream",
     "text": [
      "[12, 23, 31, 53, 58]\n"
     ]
    }
   ],
   "source": [
    "def bubble_sort(nums):\n",
    "    for i in range(len(nums) - 1):\n",
    "        swapped = False\n",
    "        for j in range(len(nums) - i - 1): # Triangle sum -> O(n)\n",
    "            if nums[j] > nums[j + 1]:\n",
    "                swapped = True\n",
    "                nums[j], nums[j + 1] = nums[j + 1], nums[j]\n",
    "                \n",
    "        if not swapped:\n",
    "            return nums\n",
    "        \n",
    "    return nums\n",
    " \n",
    "unsorted_nums = [31,23,53,12,58]\n",
    "print(bubble_sort(unsorted_nums))"
   ]
  },
  {
   "attachments": {},
   "cell_type": "markdown",
   "metadata": {},
   "source": [
    "## Selection Sort - O(n^2)"
   ]
  },
  {
   "cell_type": "code",
   "execution_count": 4,
   "metadata": {},
   "outputs": [
    {
     "name": "stdout",
     "output_type": "stream",
     "text": [
      "[12, 23, 31, 53, 58]\n"
     ]
    }
   ],
   "source": [
    "def selection_sort(nums):\n",
    "    for i in range(len(nums) - 1):\n",
    "        min_index = i\n",
    "        for j in range(i + 1, len(nums)):\n",
    "            if nums[j] < nums[min_index]:\n",
    "                min_index = j\n",
    "                \n",
    "        nums[i], nums[min_index] = nums[min_index], nums[i]\n",
    "        \n",
    "    return nums\n",
    " \n",
    "unsorted_nums = [31,23,53,12,58]\n",
    "print(selection_sort(unsorted_nums))"
   ]
  },
  {
   "attachments": {},
   "cell_type": "markdown",
   "metadata": {},
   "source": [
    "## Merge Sort\n",
    "\n",
    "1. Divide the list into 2 halves: [0:midpoint) and [midpoint:end)\n",
    "2. Merge sort both halves (recursively until you have lists of size 1)\n",
    "3. Merge the two sorted halves"
   ]
  },
  {
   "cell_type": "code",
   "execution_count": 9,
   "metadata": {},
   "outputs": [
    {
     "name": "stdout",
     "output_type": "stream",
     "text": [
      "[1, 2, 2, 3, 4, 5]\n",
      "[12, 23, 31, 53, 58]\n"
     ]
    }
   ],
   "source": [
    "def merge(nums1, nums2):\n",
    "    merged_nums = list()\n",
    "    \n",
    "    i  = 0\n",
    "    j = 0\n",
    "    while i < len(nums1) and j < len(nums2):\n",
    "        if nums1[i] < nums2[j]:\n",
    "            merged_nums.append(nums1[i])\n",
    "            i += 1\n",
    "        else:\n",
    "            merged_nums.append(nums2[j])\n",
    "            j += 1\n",
    "    \n",
    "    while i < len(nums1):\n",
    "        merged_nums.append(nums1[i])\n",
    "        i += 1\n",
    "        \n",
    "    while j < len(nums2):\n",
    "        merged_nums.append(nums2[j])\n",
    "        j += 1\n",
    "        \n",
    "    return merged_nums\n",
    "\n",
    "\n",
    "def merge_sort(nums):\n",
    "    if len(nums) <= 1:\n",
    "        return nums\n",
    "    \n",
    "    mid = len(nums) // 2\n",
    "    \n",
    "    left_half = merge_sort(nums[0:mid])\n",
    "    right_half = merge_sort(nums[mid:])\n",
    "    \n",
    "    return merge(left_half, right_half)\n",
    "    \n",
    " \n",
    "print(merge([1,4,5], [2,2,3]))\n",
    "\n",
    "unsorted_nums = [31,23,53,12,58]\n",
    "print(merge_sort(unsorted_nums))\n"
   ]
  },
  {
   "attachments": {},
   "cell_type": "markdown",
   "metadata": {},
   "source": [
    "## Quicksort"
   ]
  },
  {
   "cell_type": "code",
   "execution_count": 12,
   "metadata": {},
   "outputs": [
    {
     "name": "stdout",
     "output_type": "stream",
     "text": [
      "[12, 23, 31, 53, 58]\n"
     ]
    }
   ],
   "source": [
    "def quicksort(nums):\n",
    "    if len(nums) <= 1:\n",
    "        return nums\n",
    "    \n",
    "    pivot = nums[-1]\n",
    "    \n",
    "    smaller = list()\n",
    "    greater = list()\n",
    "    pivots = list()\n",
    "    for i in range(len(nums) - 1):\n",
    "        if nums[i] < pivot:\n",
    "            smaller.append(nums[i])\n",
    "        elif nums[i] > pivot:\n",
    "            greater.append(nums[i])\n",
    "        else:\n",
    "            pivots.append(pivot)\n",
    "            \n",
    "    return quicksort(smaller) + pivots + quicksort(greater)\n",
    "    \n",
    " \n",
    "unsorted_nums = [31,23,53,12,58]\n",
    "print(quicksort(unsorted_nums))"
   ]
  },
  {
   "attachments": {},
   "cell_type": "markdown",
   "metadata": {},
   "source": [
    "## Quicksort (In place)"
   ]
  },
  {
   "cell_type": "code",
   "execution_count": 24,
   "metadata": {},
   "outputs": [
    {
     "name": "stdout",
     "output_type": "stream",
     "text": [
      "[12, 23, 31, 53, 58]\n"
     ]
    }
   ],
   "source": [
    "def quicksort(nums):\n",
    "    def helper(low, high):\n",
    "        if high - low + 1 <= 1: # base case (only 1 element is present in the partition)\n",
    "            return\n",
    "\n",
    "        pivot = nums[high]\n",
    "        \n",
    "        p = low\n",
    "        for i in range(low, high):\n",
    "            if nums[i] < pivot:\n",
    "                nums[i], nums[p] = nums[p], nums[i]\n",
    "                p += 1\n",
    "\n",
    "        # Move pivot in-between left & right sides\n",
    "        nums[high], nums[p] = nums[p], nums[high]\n",
    "        \n",
    "        # quick sort left side\n",
    "        helper(low, p - 1)\n",
    "\n",
    "        # quick sort right side\n",
    "        helper(p + 1, high)\n",
    "\n",
    "        return nums\n",
    "    \n",
    "    return helper(0, len(nums) - 1)\n",
    "    \n",
    "unsorted_nums = [31,23,53,12,58]\n",
    "quicksort(unsorted_nums)\n",
    "print(unsorted_nums)"
   ]
  },
  {
   "attachments": {},
   "cell_type": "markdown",
   "metadata": {},
   "source": [
    "## QuickSelect"
   ]
  },
  {
   "cell_type": "code",
   "execution_count": 43,
   "metadata": {},
   "outputs": [
    {
     "name": "stdout",
     "output_type": "stream",
     "text": [
      "18\n",
      "18\n",
      "13\n",
      "30\n"
     ]
    }
   ],
   "source": [
    "def quickselect(nums):\n",
    "    median_index = len(nums) // 2 \n",
    "    \n",
    "    def helper(low, high):\n",
    "        pivot = nums[high]\n",
    "        \n",
    "        p = low\n",
    "        for i in range(low, high):\n",
    "            if nums[i] < pivot:\n",
    "                nums[i], nums[p] = nums[p], nums[i]\n",
    "                p += 1\n",
    "                \n",
    "        nums[high], nums[p] = nums[p], nums[high]\n",
    "        \n",
    "        if p == median_index:\n",
    "            return nums[p]\n",
    "        elif p > median_index:\n",
    "            return helper(low, p - 1)\n",
    "        else:\n",
    "            return helper(p + 1, high)\n",
    "           \n",
    "    return helper(0, len(nums) - 1)\n",
    "    \n",
    "print(quickselect([30, 12, 19, 26, 6, 15, 18])) # 18\n",
    "print(quickselect([30, 12, 19, 26, 6, 18, 15])) # 18\n",
    "print(quickselect([30, 12, 19,11,13])) # 13\n",
    "print(quickselect([30, 12])) # 30"
   ]
  },
  {
   "attachments": {},
   "cell_type": "markdown",
   "metadata": {},
   "source": [
    "## Bucket Sort\n",
    "> Works when you know the numbers are within a specified range 'k'."
   ]
  },
  {
   "cell_type": "code",
   "execution_count": 51,
   "metadata": {},
   "outputs": [
    {
     "name": "stdout",
     "output_type": "stream",
     "text": [
      "[1, 3, 4, 7, 8, 12, 18]\n"
     ]
    }
   ],
   "source": [
    "def bucket_sort(nums, min_val, max_val):\n",
    "    sorted_nums = list()\n",
    "    \n",
    "    buckets = [0 for _ in range(0, max_val - min_val + 1)]\n",
    "    for num in nums: # O(n)\n",
    "        buckets[num - min_val] += 1\n",
    "        \n",
    "    for num, count in enumerate(buckets): # O(k), hopefully k is constant and small\n",
    "        for _ in range(count):\n",
    "            sorted_nums.append(num + min_val)\n",
    "            \n",
    "    return sorted_nums \n",
    "    \n",
    " \n",
    "unsorted_nums = [1,7,8,18,4,12,3]\n",
    "print(bucket_sort(unsorted_nums, 1, 20))"
   ]
  },
  {
   "attachments": {},
   "cell_type": "markdown",
   "metadata": {},
   "source": [
    "## Bucket Sort (non-integer buckets)"
   ]
  },
  {
   "cell_type": "code",
   "execution_count": 53,
   "metadata": {},
   "outputs": [
    {
     "name": "stdout",
     "output_type": "stream",
     "text": [
      "[('LeBron James', 6), ('Sue Bird', 10), ('Michael Jordan', 23), ('Maya Moore', 23)]\n"
     ]
    }
   ],
   "source": [
    "def bucket_sort_players(players, min_val, max_val):\n",
    "    sorted_players = list()\n",
    "    \n",
    "    buckets = [[] for _ in range(0, max_val - min_val + 1)]\n",
    "    for player  in players: # O(n)\n",
    "        player_num = player[1]\n",
    "        buckets[player_num - min_val].append(player)\n",
    "        \n",
    "    for bucket in buckets: # O(k), hopefully k is constant and small\n",
    "        for player in bucket:\n",
    "            sorted_players.append(player)\n",
    "            \n",
    "    return sorted_players \n",
    "    \n",
    " \n",
    "players = [('Michael Jordan', 23), ('Sue Bird', 10), ('LeBron James', 6), ('Maya Moore', 23)]\n",
    "print(bucket_sort_players(players, 1, 100))"
   ]
  }
 ],
 "metadata": {
  "kernelspec": {
   "display_name": "Python 3",
   "language": "python",
   "name": "python3"
  },
  "language_info": {
   "codemirror_mode": {
    "name": "ipython",
    "version": 3
   },
   "file_extension": ".py",
   "mimetype": "text/x-python",
   "name": "python",
   "nbconvert_exporter": "python",
   "pygments_lexer": "ipython3",
   "version": "3.9.6"
  },
  "orig_nbformat": 4,
  "vscode": {
   "interpreter": {
    "hash": "31f2aee4e71d21fbe5cf8b01ff0e069b9275f58929596ceb00d14d90e3e16cd6"
   }
  }
 },
 "nbformat": 4,
 "nbformat_minor": 2
}
