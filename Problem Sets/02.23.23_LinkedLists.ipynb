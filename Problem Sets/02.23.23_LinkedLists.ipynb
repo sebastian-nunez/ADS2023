{
 "cells": [
  {
   "attachments": {},
   "cell_type": "markdown",
   "metadata": {},
   "source": [
    "# Instructions\n",
    "\n",
    "The ListNode used in all of these problems can be found in `list_node.py`. There are also two helper functions in the file that you are free to use for testing:\n",
    "\n",
    "-`pretty_print` takes in the head of a linked list and prints the list in a human-readable way\n",
    "\n",
    "-`head_from_list` converts a regular Python list to a linked list, returning the head\n",
    "\n",
    "Don't forget your edge cases!\n",
    "\n",
    "\n"
   ]
  },
  {
   "attachments": {},
   "cell_type": "markdown",
   "metadata": {},
   "source": [
    "## Insert\n",
    "Write a function that takes in 3 parameters:\n",
    "- `head`: the head of a linked list\n",
    "- `val`: a value to be inserted\n",
    "- `i`: the index at which to insert a new node with value `val`\n",
    "\n",
    "Return the head of the list with the new value inserted at the correct position.\n",
    "\n",
    "If the parameters ask for something impossible (for example, adding a value at index 12 of a length-3 list), you should raise an exception. This is a way for you to create your own errors in python, and you can do it like this:\n",
    "\n",
    "`raise Exception('Adding to index beyond list length.')`\n",
    "\n",
    "Examples:\n",
    "```\n",
    "head: 5 -> 2 -> 4 -> 7, val: 100, i: 2\n",
    "output: 5 -> 2 -> 100 -> 4 -> 7\n",
    "\n",
    "head: 5 -> 2 -> 4 -> 7, val: 100, i: 0\n",
    "output: 100 -> 5 -> 2 -> 4 -> 7\n",
    "\n",
    "head: None, val: 6, i: 0\n",
    "output: 100 (a single node that contains the value 100)\n",
    "\n",
    "head: 5 -> 2 -> 4 -> 7, val: 100, i: 16\n",
    "output: raise an exception\n",
    "```"
   ]
  },
  {
   "cell_type": "markdown",
   "metadata": {
    "collapsed": false
   },
   "source": [
    "## ListNode Class + Methods"
   ]
  },
  {
   "cell_type": "code",
   "execution_count": 1,
   "metadata": {},
   "outputs": [],
   "source": [
    "class ListNode:\n",
    "\n",
    "  def __init__(self, val, next=None):\n",
    "    self.val = val\n",
    "    self.next = next\n",
    "\n",
    "\n",
    "def pretty_print(head):\n",
    "  temp = head\n",
    "  while temp:\n",
    "    if temp.next:\n",
    "      print(temp.val, end=' -> ')\n",
    "    else:\n",
    "      print(temp.val)\n",
    "    temp = temp.next\n",
    "\n",
    "\n",
    "def head_from_list(lst):\n",
    "  if not lst:\n",
    "    return None\n",
    "\n",
    "  head = ListNode(lst[0], None)\n",
    "\n",
    "  temp = None\n",
    "  prev = head\n",
    "\n",
    "  for i in range(1, len(lst)):\n",
    "    val = lst[i]\n",
    "    temp = ListNode(val, None)\n",
    "    prev.next = temp\n",
    "    prev = temp\n",
    "\n",
    "  return head\n"
   ]
  },
  {
   "cell_type": "code",
   "execution_count": 2,
   "metadata": {},
   "outputs": [
    {
     "name": "stdout",
     "output_type": "stream",
     "text": [
      "5 -> 2 -> 4 -> 7 -> 20\n",
      "100 -> 5 -> 2 -> 4 -> 7 -> 20\n",
      "5 -> 2 -> 400 -> 4 -> 7 -> 20\n",
      "78\n"
     ]
    },
    {
     "ename": "Exception",
     "evalue": "Out of bounds insertion!",
     "output_type": "error",
     "traceback": [
      "\u001B[0;31m---------------------------------------------------------------------------\u001B[0m",
      "\u001B[0;31mException\u001B[0m                                 Traceback (most recent call last)",
      "Cell \u001B[0;32mIn[2], line 52\u001B[0m\n\u001B[1;32m     49\u001B[0m pretty_print(insert(\u001B[39mNone\u001B[39;00m, \u001B[39m20\u001B[39m, \u001B[39m78\u001B[39m)) \u001B[39m# 78\u001B[39;00m\n\u001B[1;32m     51\u001B[0m \u001B[39m# 5. insert beyond the length (out of bounds)\u001B[39;00m\n\u001B[0;32m---> 52\u001B[0m \u001B[39mprint\u001B[39m(insert(head, \u001B[39m40\u001B[39;49m, \u001B[39m150\u001B[39;49m)) \u001B[39m# raise Exception\u001B[39;00m\n",
      "Cell \u001B[0;32mIn[2], line 29\u001B[0m, in \u001B[0;36minsert\u001B[0;34m(head, i, val)\u001B[0m\n\u001B[1;32m     26\u001B[0m   prev\u001B[39m.\u001B[39mnext \u001B[39m=\u001B[39m new_node\n\u001B[1;32m     28\u001B[0m \u001B[39mif\u001B[39;00m cnt \u001B[39m<\u001B[39m i: \u001B[39m# 5. insert beyond the length (we still had to progress even though we already reached the end)\u001B[39;00m\n\u001B[0;32m---> 29\u001B[0m   \u001B[39mraise\u001B[39;00m \u001B[39mException\u001B[39;00m(\u001B[39m'\u001B[39m\u001B[39mOut of bounds insertion!\u001B[39m\u001B[39m'\u001B[39m)\n\u001B[1;32m     31\u001B[0m \u001B[39mreturn\u001B[39;00m head\n",
      "\u001B[0;31mException\u001B[0m: Out of bounds insertion!"
     ]
    }
   ],
   "source": [
    "def insert(head, i, val):\n",
    "  new_node = ListNode(val)\n",
    "\n",
    "  if not head:  # 4. empty list\n",
    "    return new_node\n",
    "\n",
    "  # 2. Insert at head\n",
    "  if i == 0:\n",
    "    new_node.next = head\n",
    "    head = new_node\n",
    "    return head\n",
    "\n",
    "  cnt = 0\n",
    "  current = head\n",
    "  prev = None\n",
    "  while current:\n",
    "    if cnt == i:  # 3. insert middle\n",
    "      prev.next = new_node\n",
    "      new_node.next = current\n",
    "    \n",
    "    prev = current\n",
    "    current = current.next\n",
    "    cnt += 1\n",
    "\n",
    "  if cnt == i: # 1. insert at the end (we ended where we wanted to)\n",
    "    prev.next = new_node\n",
    "\n",
    "  if cnt < i: # 5. insert beyond the length (we still had to progress even though we already reached the end)\n",
    "    raise Exception('Out of bounds insertion!')\n",
    "    \n",
    "  return head\n",
    "\n",
    "head = ListNode(5)\n",
    "head.next = ListNode(2)\n",
    "head.next.next = ListNode(4)\n",
    "head.next.next.next = ListNode(7)\n",
    "# pretty_print(head) # 5 -> 2 -> 4 -> 7\n",
    "\n",
    "# 1. insert at the end\n",
    "pretty_print(insert(head, 4, 20)) # 5 -> 2 -> 4 -> 7 -> 20\n",
    "\n",
    "# 2. insert at the front\n",
    "pretty_print(insert(head, 0, 100))  # 100 -> 5 -> 2 -> 4 -> 7 \n",
    "\n",
    "# 3. insert in the middle \n",
    "pretty_print(insert(head, 2, 400)) # 5 -> 2 -> 400 -> 4 -> 7\n",
    "\n",
    "# 4. insert into an empty list\n",
    "pretty_print(insert(None, 20, 78)) # 78\n",
    "\n",
    "# 5. insert beyond the length (out of bounds)\n",
    "print(insert(head, 40, 150)) # raise Exception"
   ]
  },
  {
   "attachments": {},
   "cell_type": "markdown",
   "metadata": {},
   "source": [
    "## Remove Duplicates\n",
    "Given the head of a sorted linked list, remove all duplicates from the list.\n",
    "\n",
    "Examples:\n",
    "```\n",
    "head: 2 -> 2 -> 5 -> 7 -> 7 -> 7 -> 7 -> 9 -> 9 -> 10 -> 11 -> 11\n",
    "output: 2 -> 5 -> 7 -> 9 -> 10 -> 11\n",
    "```"
   ]
  },
  {
   "cell_type": "code",
   "execution_count": null,
   "metadata": {},
   "outputs": [],
   "source": []
  },
  {
   "attachments": {},
   "cell_type": "markdown",
   "metadata": {},
   "source": [
    "## Zipper\n",
    "Given the heads of two linked lists, weave them together. The order of the new list should be an element from list 1, then list 2, then list 1, then list 2, alternating like that. If there are extra elements left over, they should all go on the end.\n",
    "\n",
    "You can assume that the lists are of equal length.\n",
    "\n",
    "Examples:\n",
    "```\n",
    "head1: 8 -> 6 -> 7\n",
    "head2: 16 -> 12 -> 50\n",
    "output: 8 -> 16 -> 6 -> 12 -> 7 -> 50\n",
    "```\n",
    "\n"
   ]
  },
  {
   "cell_type": "code",
   "execution_count": null,
   "metadata": {},
   "outputs": [],
   "source": []
  },
  {
   "attachments": {},
   "cell_type": "markdown",
   "metadata": {},
   "source": [
    "## Remove\n",
    "Write a function that takes in 2 parameters:\n",
    "- `head`: the head of a linked list\n",
    "- `i`: the index at which to remove a node\n",
    "\n",
    "Return the head of the list with the node at index `i` removed.\n",
    "\n",
    "Remember to raise an exception if this is impossible!\n",
    "\n",
    "Examples:\n",
    "```\n",
    "head: 5 -> 2 -> 4 -> 7, i: 2\n",
    "output: 5 -> 2 -> 7\n",
    "\n",
    "head: 5 -> 2 -> 4 -> 7, i: 0\n",
    "output: 2 -> 4 -> 7\n",
    "\n",
    "head: 5 -> 2 -> 4 -> 7, i: 16\n",
    "output: raise an exception\n",
    "```"
   ]
  },
  {
   "cell_type": "markdown",
   "metadata": {},
   "source": []
  }
 ],
 "metadata": {
  "kernelspec": {
   "display_name": "Python 3",
   "language": "python",
   "name": "python3"
  },
  "language_info": {
   "codemirror_mode": {
    "name": "ipython",
    "version": 3
   },
   "file_extension": ".py",
   "mimetype": "text/x-python",
   "name": "python",
   "nbconvert_exporter": "python",
   "pygments_lexer": "ipython3",
   "version": "3.9.6"
  },
  "orig_nbformat": 4,
  "vscode": {
   "interpreter": {
    "hash": "31f2aee4e71d21fbe5cf8b01ff0e069b9275f58929596ceb00d14d90e3e16cd6"
   }
  }
 },
 "nbformat": 4,
 "nbformat_minor": 2
}
