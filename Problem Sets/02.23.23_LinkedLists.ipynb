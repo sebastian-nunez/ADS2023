{
 "cells": [
  {
   "attachments": {},
   "cell_type": "markdown",
   "metadata": {},
   "source": [
    "# Instructions\n",
    "\n",
    "The ListNode used in all of these problems can be found in `list_node.py`. There are also two helper functions in the file that you are free to use for testing:\n",
    "\n",
    "-`pretty_print` takes in the head of a linked list and prints the list in a human-readable way\n",
    "\n",
    "-`head_from_list` converts a regular Python list to a linked list, returning the head\n",
    "\n",
    "Don't forget your edge cases!\n",
    "\n",
    "\n"
   ]
  },
  {
   "attachments": {},
   "cell_type": "markdown",
   "metadata": {},
   "source": [
    "## Insert\n",
    "Write a function that takes in 3 parameters:\n",
    "- `head`: the head of a linked list\n",
    "- `val`: a value to be inserted\n",
    "- `i`: the index at which to insert a new node with value `val`\n",
    "\n",
    "Return the head of the list with the new value inserted at the correct position.\n",
    "\n",
    "If the parameters ask for something impossible (for example, adding a value at index 12 of a length-3 list), you should raise an exception. This is a way for you to create your own errors in python, and you can do it like this:\n",
    "\n",
    "`raise Exception('Adding to index beyond list length.')`\n",
    "\n",
    "Examples:\n",
    "```\n",
    "head: 5 -> 2 -> 4 -> 7, val: 100, i: 2\n",
    "output: 5 -> 2 -> 100 -> 4 -> 7\n",
    "\n",
    "head: 5 -> 2 -> 4 -> 7, val: 100, i: 0\n",
    "output: 100 -> 5 -> 2 -> 4 -> 7\n",
    "\n",
    "head: None, val: 6, i: 0\n",
    "output: 100 (a single node that contains the value 100)\n",
    "\n",
    "head: 5 -> 2 -> 4 -> 7, val: 100, i: 16\n",
    "output: raise an exception\n",
    "```"
   ]
  },
  {
   "cell_type": "markdown",
   "metadata": {
    "collapsed": false
   },
   "source": [
    "## ListNode Class + Methods"
   ]
  },
  {
   "cell_type": "code",
   "execution_count": 2,
   "metadata": {},
   "outputs": [],
   "source": [
    "class ListNode:\n",
    "\n",
    "  def __init__(self, val, next=None):\n",
    "    self.val = val\n",
    "    self.next = next\n",
    "\n",
    "\n",
    "def pretty_print(head):\n",
    "  temp = head\n",
    "  while temp:\n",
    "    if temp.next:\n",
    "      print(temp.val, end=' -> ')\n",
    "    else:\n",
    "      print(temp.val)\n",
    "    temp = temp.next\n",
    "\n",
    "\n",
    "def head_from_list(lst):\n",
    "  if not lst:\n",
    "    return None\n",
    "\n",
    "  head = ListNode(lst[0], None)\n",
    "\n",
    "  temp = None\n",
    "  prev = head\n",
    "\n",
    "  for i in range(1, len(lst)):\n",
    "    val = lst[i]\n",
    "    temp = ListNode(val, None)\n",
    "    prev.next = temp\n",
    "    prev = temp\n",
    "\n",
    "  return head\n"
   ]
  },
  {
   "cell_type": "code",
   "execution_count": 3,
   "metadata": {},
   "outputs": [
    {
     "name": "stdout",
     "output_type": "stream",
     "text": [
      "5 -> 2 -> 4 -> 7 -> 20\n",
      "100 -> 5 -> 2 -> 4 -> 7 -> 20\n",
      "5 -> 2 -> 400 -> 4 -> 7 -> 20\n",
      "78\n"
     ]
    },
    {
     "ename": "Exception",
     "evalue": "Out of bounds insertion!",
     "output_type": "error",
     "traceback": [
      "\u001b[0;31m---------------------------------------------------------------------------\u001b[0m",
      "\u001b[0;31mException\u001b[0m                                 Traceback (most recent call last)",
      "Cell \u001b[0;32mIn[3], line 52\u001b[0m\n\u001b[1;32m     49\u001b[0m pretty_print(insert(\u001b[39mNone\u001b[39;00m, \u001b[39m20\u001b[39m, \u001b[39m78\u001b[39m)) \u001b[39m# 78\u001b[39;00m\n\u001b[1;32m     51\u001b[0m \u001b[39m# 5. insert beyond the length (out of bounds)\u001b[39;00m\n\u001b[0;32m---> 52\u001b[0m \u001b[39mprint\u001b[39m(insert(head, \u001b[39m40\u001b[39;49m, \u001b[39m150\u001b[39;49m)) \u001b[39m# raise Exception\u001b[39;00m\n",
      "Cell \u001b[0;32mIn[3], line 29\u001b[0m, in \u001b[0;36minsert\u001b[0;34m(head, i, val)\u001b[0m\n\u001b[1;32m     26\u001b[0m   prev\u001b[39m.\u001b[39mnext \u001b[39m=\u001b[39m new_node\n\u001b[1;32m     28\u001b[0m \u001b[39mif\u001b[39;00m cnt \u001b[39m<\u001b[39m i: \u001b[39m# 5. insert beyond the length (we still had to progress even though we already reached the end)\u001b[39;00m\n\u001b[0;32m---> 29\u001b[0m   \u001b[39mraise\u001b[39;00m \u001b[39mException\u001b[39;00m(\u001b[39m'\u001b[39m\u001b[39mOut of bounds insertion!\u001b[39m\u001b[39m'\u001b[39m)\n\u001b[1;32m     31\u001b[0m \u001b[39mreturn\u001b[39;00m head\n",
      "\u001b[0;31mException\u001b[0m: Out of bounds insertion!"
     ]
    }
   ],
   "source": [
    "def insert(head, i, val):\n",
    "  new_node = ListNode(val)\n",
    "\n",
    "  if not head:  # 4. empty list\n",
    "    return new_node\n",
    "\n",
    "  # 2. Insert at head\n",
    "  if i == 0:\n",
    "    new_node.next = head\n",
    "    head = new_node\n",
    "    return head\n",
    "\n",
    "  cnt = 0\n",
    "  current = head\n",
    "  prev = None\n",
    "  while current:\n",
    "    if cnt == i:  # 3. insert middle\n",
    "      prev.next = new_node\n",
    "      new_node.next = current\n",
    "    \n",
    "    prev = current\n",
    "    current = current.next\n",
    "    cnt += 1\n",
    "\n",
    "  if cnt == i: # 1. insert at the end (we ended where we wanted to)\n",
    "    prev.next = new_node\n",
    "\n",
    "  if cnt < i: # 5. insert beyond the length (we still had to progress even though we already reached the end)\n",
    "    raise Exception('Out of bounds insertion!')\n",
    "    \n",
    "  return head\n",
    "\n",
    "head = ListNode(5)\n",
    "head.next = ListNode(2)\n",
    "head.next.next = ListNode(4)\n",
    "head.next.next.next = ListNode(7)\n",
    "# pretty_print(head) # 5 -> 2 -> 4 -> 7\n",
    "\n",
    "# 1. insert at the end\n",
    "pretty_print(insert(head, 4, 20)) # 5 -> 2 -> 4 -> 7 -> 20\n",
    "\n",
    "# 2. insert at the front\n",
    "pretty_print(insert(head, 0, 100))  # 100 -> 5 -> 2 -> 4 -> 7 \n",
    "\n",
    "# 3. insert in the middle \n",
    "pretty_print(insert(head, 2, 400)) # 5 -> 2 -> 400 -> 4 -> 7\n",
    "\n",
    "# 4. insert into an empty list\n",
    "pretty_print(insert(None, 20, 78)) # 78\n",
    "\n",
    "# 5. insert beyond the length (out of bounds)\n",
    "print(insert(head, 40, 150)) # raise Exception"
   ]
  },
  {
   "attachments": {},
   "cell_type": "markdown",
   "metadata": {},
   "source": [
    "## Remove Duplicates\n",
    "Given the head of a sorted linked list, remove all duplicates from the list.\n",
    "\n",
    "Examples:\n",
    "```\n",
    "head: 2 -> 2 -> 5 -> 7 -> 7 -> 7 -> 7 -> 9 -> 9 -> 10 -> 11 -> 11\n",
    "output: 2 -> 5 -> 7 -> 9 -> 10 -> 11\n",
    "```"
   ]
  },
  {
   "cell_type": "code",
   "execution_count": null,
   "metadata": {},
   "outputs": [
    {
     "name": "stdout",
     "output_type": "stream",
     "text": [
      "2 -> 5 -> 7 -> 9 -> 10 -> 11\n"
     ]
    }
   ],
   "source": [
    "def remove_duplicates(head):\n",
    "    if not head:\n",
    "        return None\n",
    "    \n",
    "    current = head\n",
    "    while current.next:\n",
    "        \n",
    "        if current.next.val == current.val:\n",
    "            while current.next and current.next.val == current.val:\n",
    "                current.next = current.next.next\n",
    "        else:\n",
    "            current = current.next\n",
    "        \n",
    "    return head\n",
    "\n",
    "lst1 = ListNode(2, ListNode(2, ListNode(5, ListNode(7, ListNode(7, ListNode(7, ListNode(9, ListNode(9, ListNode(10, ListNode(11, ListNode(11)))))))))))\n",
    "\n",
    "pretty_print(remove_duplicates(lst1)) # 2 -> 5 -> 7 -> 9 -> 10 -> 11"
   ]
  },
  {
   "attachments": {},
   "cell_type": "markdown",
   "metadata": {},
   "source": [
    "## Zipper\n",
    "Given the heads of two linked lists, weave them together. The order of the new list should be an element from list 1, then list 2, then list 1, then list 2, alternating like that. If there are extra elements left over, they should all go on the end.\n",
    "\n",
    "You can assume that the lists are of equal length.\n",
    "\n",
    "Examples:\n",
    "```\n",
    "head1: 8 -> 6 -> 7\n",
    "head2: 16 -> 12 -> 50\n",
    "output: 8 -> 16 -> 6 -> 12 -> 7 -> 50\n",
    "```\n",
    "\n"
   ]
  },
  {
   "cell_type": "code",
   "execution_count": null,
   "metadata": {},
   "outputs": [
    {
     "name": "stdout",
     "output_type": "stream",
     "text": [
      "8 -> 16 -> 6 -> 12 -> 7 -> 50\n"
     ]
    }
   ],
   "source": [
    "def zipper(head1, head2):\n",
    "    if not head1 or not head2:\n",
    "        return None\n",
    "    \n",
    "    dummy_head = ListNode(-1)\n",
    "    current = dummy_head\n",
    "    i = 0\n",
    "    while head1 or head2:\n",
    "        if i % 2 == 0:\n",
    "            current.next = head1\n",
    "            head1 = head1.next\n",
    "        else:\n",
    "            current.next = head2\n",
    "            head2 = head2.next\n",
    "            \n",
    "        i += 1\n",
    "        current = current.next\n",
    "        \n",
    "    return dummy_head.next\n",
    "\n",
    "head1 = head_from_list([8, 6, 7])\n",
    "head2 = head_from_list([16, 12, 50])\n",
    "\n",
    "pretty_print(zipper(head1, head2))"
   ]
  },
  {
   "attachments": {},
   "cell_type": "markdown",
   "metadata": {},
   "source": [
    "## Zipper Extension\n",
    "Given the heads of two linked lists, weave them together. The order of the new list should be an element from list 1, then list 2, then list 1, then list 2, alternating like that. If there are extra elements left over, they should all go on the end.\n",
    "\n",
    "**Note: Lists can be of different lengths.**\n",
    "\n",
    "Examples:\n",
    "```\n",
    "head1: 8 -> 6 -> 7 -> 88 -> 53\n",
    "head2: 16 -> 12 -> 50\n",
    "output: 8 -> 16 -> 6 -> 12 -> 7 -> 50 -> 88 -> 53\n",
    "```"
   ]
  },
  {
   "cell_type": "code",
   "execution_count": 24,
   "metadata": {},
   "outputs": [
    {
     "name": "stdout",
     "output_type": "stream",
     "text": [
      "8 -> 16 -> 6 -> 12 -> 7 -> 50 -> 88 -> 53\n"
     ]
    }
   ],
   "source": [
    "def zipper(head1, head2):\n",
    "    if not head1 or not head2:\n",
    "        return None\n",
    "    \n",
    "    dummy_head = ListNode(-1)\n",
    "    current = dummy_head\n",
    "    i = 0\n",
    "    while head1 and head2:\n",
    "        if i % 2 == 0:\n",
    "            current.next = head1\n",
    "            head1 = head1.next\n",
    "        else:\n",
    "            current.next = head2\n",
    "            head2 = head2.next\n",
    "            \n",
    "        i += 1\n",
    "        current = current.next\n",
    "        \n",
    "    while head1:\n",
    "        current.next = head1\n",
    "        head1 = head1.next\n",
    "        current = current.next\n",
    "        \n",
    "    while head2:\n",
    "        current.next = head2\n",
    "        head2 = head2.next\n",
    "        current = current.next\n",
    "        \n",
    "    return dummy_head.next\n",
    "\n",
    "head1 = head_from_list([8, 6, 7, 88, 53])\n",
    "head2 = head_from_list([16, 12, 50])\n",
    "\n",
    "pretty_print(zipper(head1, head2)) # 8 -> 16 -> 6 -> 12 -> 7 -> 50 -> 88 -> 53"
   ]
  },
  {
   "cell_type": "code",
   "execution_count": 29,
   "metadata": {},
   "outputs": [
    {
     "name": "stdout",
     "output_type": "stream",
     "text": [
      "8 -> 16 -> 6 -> 12 -> 7 -> 50 -> 88 -> 53\n"
     ]
    }
   ],
   "source": [
    "def zipper_2(head1, head2):\n",
    "    temp1 = head1\n",
    "    temp2 = head2\n",
    "    \n",
    "    while temp1 and temp2:\n",
    "        next1 = temp1.next\n",
    "        next2 = temp2.next\n",
    "        \n",
    "        temp1.next = temp2\n",
    "        temp2.next = next1\n",
    "        \n",
    "        temp1 = next1\n",
    "        temp2 = next2\n",
    "        \n",
    "    return head1\n",
    "\n",
    "head1 = head_from_list([8, 6, 7, 88, 53])\n",
    "head2 = head_from_list([16, 12, 50])\n",
    "\n",
    "pretty_print(zipper_2(head1, head2)) # 8 -> 16 -> 6 -> 12 -> 7 -> 50 -> 88 -> 53"
   ]
  },
  {
   "attachments": {},
   "cell_type": "markdown",
   "metadata": {},
   "source": [
    "## Remove\n",
    "Write a function that takes in 2 parameters:\n",
    "- `head`: the head of a linked list\n",
    "- `i`: the index at which to remove a node\n",
    "\n",
    "Return the head of the list with the node at index `i` removed.\n",
    "\n",
    "Remember to raise an exception if this is impossible!\n",
    "\n",
    "Examples:\n",
    "```\n",
    "head: 5 -> 2 -> 4 -> 7, i: 2\n",
    "output: 5 -> 2 -> 7\n",
    "\n",
    "head: 5 -> 2 -> 4 -> 7, i: 0\n",
    "output: 2 -> 4 -> 7\n",
    "\n",
    "head: 5 -> 2 -> 4 -> 7, i: 16\n",
    "output: raise an exception\n",
    "```"
   ]
  },
  {
   "cell_type": "code",
   "execution_count": 21,
   "metadata": {},
   "outputs": [
    {
     "name": "stdout",
     "output_type": "stream",
     "text": [
      "5 -> 2 -> 7\n",
      "2 -> 4 -> 7\n",
      "5 -> 2 -> 4\n"
     ]
    },
    {
     "ename": "Exception",
     "evalue": "Index out of bounds!",
     "output_type": "error",
     "traceback": [
      "\u001b[0;31m---------------------------------------------------------------------------\u001b[0m",
      "\u001b[0;31mException\u001b[0m                                 Traceback (most recent call last)",
      "Cell \u001b[0;32mIn[21], line 40\u001b[0m\n\u001b[1;32m     37\u001b[0m pretty_print(remove_node(lst, \u001b[39m3\u001b[39m)) \u001b[39m# 5 -> 2 -> 4\u001b[39;00m\n\u001b[1;32m     39\u001b[0m lst \u001b[39m=\u001b[39m head_from_list([\u001b[39m5\u001b[39m, \u001b[39m2\u001b[39m, \u001b[39m4\u001b[39m, \u001b[39m7\u001b[39m])\n\u001b[0;32m---> 40\u001b[0m pretty_print(remove_node(lst, \u001b[39m16\u001b[39;49m)) \u001b[39m# out of bounds\u001b[39;00m\n",
      "Cell \u001b[0;32mIn[21], line 28\u001b[0m, in \u001b[0;36mremove_node\u001b[0;34m(head, i)\u001b[0m\n\u001b[1;32m     25\u001b[0m     current \u001b[39m=\u001b[39m current\u001b[39m.\u001b[39mnext\n\u001b[1;32m     27\u001b[0m \u001b[39m# we reached the end and no node was removed\u001b[39;00m\n\u001b[0;32m---> 28\u001b[0m \u001b[39mraise\u001b[39;00m \u001b[39mException\u001b[39;00m(\u001b[39m\"\u001b[39m\u001b[39mIndex out of bounds!\u001b[39m\u001b[39m\"\u001b[39m)\n",
      "\u001b[0;31mException\u001b[0m: Index out of bounds!"
     ]
    }
   ],
   "source": [
    "def remove_node(head, i):\n",
    "    if not head:\n",
    "        raise Exception(\"Can't remove from an empty list!\")\n",
    "    \n",
    "    if i < 0:\n",
    "        raise Exception(\"Unable to remove from a negative 'i'\")\n",
    "    \n",
    "    current = head\n",
    "    prev = None\n",
    "    pos = 0\n",
    "    while current:\n",
    "        if pos == i:\n",
    "            if not prev: # removed first element\n",
    "                return head.next\n",
    "            \n",
    "            if current.next: # removed from the middle\n",
    "                prev.next = current.next\n",
    "            else: # removed the last element\n",
    "                prev.next = None\n",
    "\n",
    "            return head\n",
    "            \n",
    "        pos += 1\n",
    "        prev = current\n",
    "        current = current.next\n",
    "  \n",
    "    # we reached the end and no node was removed\n",
    "    raise Exception(\"Index out of bounds!\")\n",
    "\n",
    "lst = head_from_list([5, 2, 4, 7])\n",
    "pretty_print(remove_node(lst, 2)) # 5 -> 2 -> 4 -> 7\n",
    "\n",
    "lst = head_from_list([5, 2, 4, 7])\n",
    "pretty_print(remove_node(lst, 0)) # 2 -> 4 -> 7\n",
    "\n",
    "lst = head_from_list([5, 2, 4, 7])\n",
    "pretty_print(remove_node(lst, 3)) # 5 -> 2 -> 4\n",
    "\n",
    "lst = head_from_list([5, 2, 4, 7])\n",
    "pretty_print(remove_node(lst, 16)) # out of bounds"
   ]
  }
 ],
 "metadata": {
  "kernelspec": {
   "display_name": "Python 3",
   "language": "python",
   "name": "python3"
  },
  "language_info": {
   "codemirror_mode": {
    "name": "ipython",
    "version": 3
   },
   "file_extension": ".py",
   "mimetype": "text/x-python",
   "name": "python",
   "nbconvert_exporter": "python",
   "pygments_lexer": "ipython3",
   "version": "3.9.6"
  },
  "orig_nbformat": 4,
  "vscode": {
   "interpreter": {
    "hash": "31f2aee4e71d21fbe5cf8b01ff0e069b9275f58929596ceb00d14d90e3e16cd6"
   }
  }
 },
 "nbformat": 4,
 "nbformat_minor": 2
}
