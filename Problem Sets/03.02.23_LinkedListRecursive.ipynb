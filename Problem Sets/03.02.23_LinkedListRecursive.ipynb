{
 "cells": [
  {
   "attachments": {},
   "cell_type": "markdown",
   "metadata": {},
   "source": [
    "# Instructions\n",
    "\n",
    "**You've seen some of these problems before, but solved them iteratively. Solve them recursively today!**\n",
    "\n",
    "The ListNode used in all of these problems can be found in `list_node.py`. There are also two helper functions in the file that you are free to use for testing:\n",
    "\n",
    "-`pretty_print` takes in the head of a linked list and prints the list in a human-readable way\n",
    "\n",
    "-`head_from_list` converts a regular Python list to a linked list, returning the head\n",
    "\n",
    "\n",
    "\n",
    "\n",
    "\n",
    "\n",
    "\n",
    "\n",
    "\n"
   ]
  },
  {
   "cell_type": "code",
   "execution_count": 1,
   "metadata": {},
   "outputs": [],
   "source": [
    "class ListNode:\n",
    "\n",
    "  def __init__(self, val, next=None):\n",
    "    self.val = val\n",
    "    self.next = next\n",
    "\n",
    "\n",
    "def pretty_print(head):\n",
    "  temp = head\n",
    "  while temp:\n",
    "    if temp.next:\n",
    "      print(temp.val, end=' -> ')\n",
    "    else:\n",
    "      print(temp.val)\n",
    "    temp = temp.next\n",
    "\n",
    "\n",
    "def head_from_list(lst):\n",
    "  if not lst:\n",
    "    return None\n",
    "\n",
    "  head = ListNode(lst[0], None)\n",
    "\n",
    "  temp = None\n",
    "  prev = head\n",
    "\n",
    "  for i in range(1, len(lst)):\n",
    "    val = lst[i]\n",
    "    temp = ListNode(val, None)\n",
    "    prev.next = temp\n",
    "    prev = temp\n",
    "\n",
    "  return head\n"
   ]
  },
  {
   "attachments": {},
   "cell_type": "markdown",
   "metadata": {},
   "source": [
    "## Concatenate\n",
    "\n",
    "Given the `head` of a LinkedList whose values are Strings, concatenate all of the values together to form a sentence! The words should be joined together with spaces (no space after the last word).\n",
    "\n",
    "Example:\n",
    "```\n",
    "head: \"I\" -> \"love\" -> \"ice\" -> cream\"\n",
    "output: \"I love ice cream\"\n",
    "```"
   ]
  },
  {
   "cell_type": "code",
   "execution_count": null,
   "metadata": {},
   "outputs": [],
   "source": []
  },
  {
   "attachments": {},
   "cell_type": "markdown",
   "metadata": {},
   "source": [
    "## Append\n",
    "\n",
    "Given the `head` of a list, append a new node with value `val` to the end of the list. Return the head of the list.\n",
    "\n",
    "Examples:\n",
    "```\n",
    "head: 1 -> 6 -> 1 -> 2\n",
    "val: 42\n",
    "output: 1 -> 6 -> 1 -> 2 -> 42\n",
    "\n",
    "head: None\n",
    "val: 42\n",
    "output: 42\n",
    "```"
   ]
  },
  {
   "cell_type": "code",
   "execution_count": null,
   "metadata": {},
   "outputs": [],
   "source": []
  },
  {
   "attachments": {},
   "cell_type": "markdown",
   "metadata": {},
   "source": [
    "## Remove Duplicates\n",
    "Given the head of a sorted linked list, remove all duplicates from the list.\n",
    "\n",
    "Examples:\n",
    "```\n",
    "head: 2 -> 2 -> 5 -> 7 -> 7 -> 7 -> 7 -> 9 -> 9 -> 10 -> 11 -> 11\n",
    "output: 2 -> 5 -> 7 -> 9 -> 10 -> 11\n",
    "```"
   ]
  },
  {
   "cell_type": "code",
   "execution_count": null,
   "metadata": {},
   "outputs": [],
   "source": []
  },
  {
   "attachments": {},
   "cell_type": "markdown",
   "metadata": {},
   "source": [
    "## Zipper\n",
    "Given the heads of two linked lists, weave them together. The order of the new list should be an element from list 1, then list 2, then list 1, then list 2, alternating like that. If there are extra elements left over, they should all go on the end.\n",
    "\n",
    "You can assume that the lists are of equal length.\n",
    "\n",
    "Examples:\n",
    "```\n",
    "head1: 8 -> 6 -> 7\n",
    "head2: 16 -> 12 -> 50\n",
    "output: 8 -> 16 -> 6 -> 12 -> 7 -> 50\n",
    "```"
   ]
  },
  {
   "cell_type": "code",
   "execution_count": null,
   "metadata": {},
   "outputs": [],
   "source": []
  },
  {
   "attachments": {},
   "cell_type": "markdown",
   "metadata": {},
   "source": [
    "## Reverse\n",
    "Given the head of a linked list, reverse the list and return the new head.\n",
    "\n",
    "Example:\n",
    "```\n",
    "head: 5 -> 2 -> 4 -> 7\n",
    "output: 7 -> 4 -> 2 -> 5\n",
    "```"
   ]
  },
  {
   "cell_type": "code",
   "execution_count": null,
   "metadata": {},
   "outputs": [],
   "source": []
  }
 ],
 "metadata": {
  "kernelspec": {
   "display_name": "Python 3",
   "language": "python",
   "name": "python3"
  },
  "language_info": {
   "codemirror_mode": {
    "name": "ipython",
    "version": 3
   },
   "file_extension": ".py",
   "mimetype": "text/x-python",
   "name": "python",
   "nbconvert_exporter": "python",
   "pygments_lexer": "ipython3",
   "version": "3.9.6"
  },
  "orig_nbformat": 4,
  "vscode": {
   "interpreter": {
    "hash": "31f2aee4e71d21fbe5cf8b01ff0e069b9275f58929596ceb00d14d90e3e16cd6"
   }
  }
 },
 "nbformat": 4,
 "nbformat_minor": 2
}
